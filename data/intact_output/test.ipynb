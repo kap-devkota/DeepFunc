{
 "cells": [
  {
   "cell_type": "code",
   "execution_count": 1,
   "metadata": {},
   "outputs": [],
   "source": [
    "import pandas as pd"
   ]
  },
  {
   "cell_type": "code",
   "execution_count": 2,
   "metadata": {},
   "outputs": [
    {
     "data": {
      "text/html": [
       "<div>\n",
       "<style scoped>\n",
       "    .dataframe tbody tr th:only-of-type {\n",
       "        vertical-align: middle;\n",
       "    }\n",
       "\n",
       "    .dataframe tbody tr th {\n",
       "        vertical-align: top;\n",
       "    }\n",
       "\n",
       "    .dataframe thead th {\n",
       "        text-align: right;\n",
       "    }\n",
       "</style>\n",
       "<table border=\"1\" class=\"dataframe\">\n",
       "  <thead>\n",
       "    <tr style=\"text-align: right;\">\n",
       "      <th></th>\n",
       "      <th>0</th>\n",
       "      <th>1</th>\n",
       "    </tr>\n",
       "  </thead>\n",
       "  <tbody>\n",
       "    <tr>\n",
       "      <th>0</th>\n",
       "      <td>P08539</td>\n",
       "      <td>P18851</td>\n",
       "    </tr>\n",
       "    <tr>\n",
       "      <th>1</th>\n",
       "      <td>P11433</td>\n",
       "      <td>P18852</td>\n",
       "    </tr>\n",
       "    <tr>\n",
       "      <th>2</th>\n",
       "      <td>P11433</td>\n",
       "      <td>P21268</td>\n",
       "    </tr>\n",
       "    <tr>\n",
       "      <th>3</th>\n",
       "      <td>P11433</td>\n",
       "      <td>P18851</td>\n",
       "    </tr>\n",
       "    <tr>\n",
       "      <th>4</th>\n",
       "      <td>P18851</td>\n",
       "      <td>P18852</td>\n",
       "    </tr>\n",
       "    <tr>\n",
       "      <th>...</th>\n",
       "      <td>...</td>\n",
       "      <td>...</td>\n",
       "    </tr>\n",
       "    <tr>\n",
       "      <th>109681</th>\n",
       "      <td>Q07821</td>\n",
       "      <td>Q12425</td>\n",
       "    </tr>\n",
       "    <tr>\n",
       "      <th>109682</th>\n",
       "      <td>P47158</td>\n",
       "      <td>Q12425</td>\n",
       "    </tr>\n",
       "    <tr>\n",
       "      <th>109683</th>\n",
       "      <td>P47158</td>\n",
       "      <td>Q07821</td>\n",
       "    </tr>\n",
       "    <tr>\n",
       "      <th>109684</th>\n",
       "      <td>P47158</td>\n",
       "      <td>Q12425</td>\n",
       "    </tr>\n",
       "    <tr>\n",
       "      <th>109685</th>\n",
       "      <td>P47158</td>\n",
       "      <td>Q07821</td>\n",
       "    </tr>\n",
       "  </tbody>\n",
       "</table>\n",
       "<p>109686 rows × 2 columns</p>\n",
       "</div>"
      ],
      "text/plain": [
       "             0       1\n",
       "0       P08539  P18851\n",
       "1       P11433  P18852\n",
       "2       P11433  P21268\n",
       "3       P11433  P18851\n",
       "4       P18851  P18852\n",
       "...        ...     ...\n",
       "109681  Q07821  Q12425\n",
       "109682  P47158  Q12425\n",
       "109683  P47158  Q07821\n",
       "109684  P47158  Q12425\n",
       "109685  P47158  Q07821\n",
       "\n",
       "[109686 rows x 2 columns]"
      ]
     },
     "execution_count": 2,
     "metadata": {},
     "output_type": "execute_result"
    }
   ],
   "source": [
    "db = pd.read_csv(\"bakers.s.tsv\", sep = \"\\t\", header = None)\n",
    "db"
   ]
  },
  {
   "cell_type": "code",
   "execution_count": 3,
   "metadata": {},
   "outputs": [
    {
     "data": {
      "text/plain": [
       "6478"
      ]
     },
     "execution_count": 3,
     "metadata": {},
     "output_type": "execute_result"
    }
   ],
   "source": [
    "dbprots = set(db[0]).union(db[1])\n",
    "len(dbprots)"
   ]
  },
  {
   "cell_type": "code",
   "execution_count": 4,
   "metadata": {},
   "outputs": [
    {
     "data": {
      "text/html": [
       "<div>\n",
       "<style scoped>\n",
       "    .dataframe tbody tr th:only-of-type {\n",
       "        vertical-align: middle;\n",
       "    }\n",
       "\n",
       "    .dataframe tbody tr th {\n",
       "        vertical-align: top;\n",
       "    }\n",
       "\n",
       "    .dataframe thead th {\n",
       "        text-align: right;\n",
       "    }\n",
       "</style>\n",
       "<table border=\"1\" class=\"dataframe\">\n",
       "  <thead>\n",
       "    <tr style=\"text-align: right;\">\n",
       "      <th></th>\n",
       "      <th>fly</th>\n",
       "      <th>bakers</th>\n",
       "      <th>score</th>\n",
       "    </tr>\n",
       "  </thead>\n",
       "  <tbody>\n",
       "    <tr>\n",
       "      <th>0</th>\n",
       "      <td>A0A0B4K7J2</td>\n",
       "      <td>P32499</td>\n",
       "      <td>0.033223</td>\n",
       "    </tr>\n",
       "    <tr>\n",
       "      <th>1</th>\n",
       "      <td>A0A0B4K7J2</td>\n",
       "      <td>P40517</td>\n",
       "      <td>0.033033</td>\n",
       "    </tr>\n",
       "    <tr>\n",
       "      <th>2</th>\n",
       "      <td>A0A0B4K7J2</td>\n",
       "      <td>P41920</td>\n",
       "      <td>0.044461</td>\n",
       "    </tr>\n",
       "    <tr>\n",
       "      <th>3</th>\n",
       "      <td>A1Z6J5</td>\n",
       "      <td>P39937</td>\n",
       "      <td>0.041991</td>\n",
       "    </tr>\n",
       "    <tr>\n",
       "      <th>4</th>\n",
       "      <td>A1Z6K7</td>\n",
       "      <td>Q08723</td>\n",
       "      <td>0.032133</td>\n",
       "    </tr>\n",
       "    <tr>\n",
       "      <th>...</th>\n",
       "      <td>...</td>\n",
       "      <td>...</td>\n",
       "      <td>...</td>\n",
       "    </tr>\n",
       "    <tr>\n",
       "      <th>8353</th>\n",
       "      <td>Q9Y1I2</td>\n",
       "      <td>P38932</td>\n",
       "      <td>0.031137</td>\n",
       "    </tr>\n",
       "    <tr>\n",
       "      <th>8354</th>\n",
       "      <td>X2JDY8</td>\n",
       "      <td>P38339</td>\n",
       "      <td>0.031469</td>\n",
       "    </tr>\n",
       "    <tr>\n",
       "      <th>8355</th>\n",
       "      <td>X2JDY8</td>\n",
       "      <td>P39083</td>\n",
       "      <td>0.032654</td>\n",
       "    </tr>\n",
       "    <tr>\n",
       "      <th>8356</th>\n",
       "      <td>X2JDY8</td>\n",
       "      <td>P39960</td>\n",
       "      <td>0.035592</td>\n",
       "    </tr>\n",
       "    <tr>\n",
       "      <th>8357</th>\n",
       "      <td>X2JDY8</td>\n",
       "      <td>Q06407</td>\n",
       "      <td>0.033863</td>\n",
       "    </tr>\n",
       "  </tbody>\n",
       "</table>\n",
       "<p>8358 rows × 3 columns</p>\n",
       "</div>"
      ],
      "text/plain": [
       "             fly  bakers     score\n",
       "0     A0A0B4K7J2  P32499  0.033223\n",
       "1     A0A0B4K7J2  P40517  0.033033\n",
       "2     A0A0B4K7J2  P41920  0.044461\n",
       "3         A1Z6J5  P39937  0.041991\n",
       "4         A1Z6K7  Q08723  0.032133\n",
       "...          ...     ...       ...\n",
       "8353      Q9Y1I2  P38932  0.031137\n",
       "8354      X2JDY8  P38339  0.031469\n",
       "8355      X2JDY8  P39083  0.032654\n",
       "8356      X2JDY8  P39960  0.035592\n",
       "8357      X2JDY8  Q06407  0.033863\n",
       "\n",
       "[8358 rows x 3 columns]"
      ]
     },
     "execution_count": 4,
     "metadata": {},
     "output_type": "execute_result"
    }
   ],
   "source": [
    "dfb = pd.read_csv(\"fly-bakers.tsv\", sep = \"\\t\")\n",
    "dfb"
   ]
  },
  {
   "cell_type": "code",
   "execution_count": 5,
   "metadata": {},
   "outputs": [
    {
     "data": {
      "text/plain": [
       "1508"
      ]
     },
     "execution_count": 5,
     "metadata": {},
     "output_type": "execute_result"
    }
   ],
   "source": [
    "dbp = set(dfb.iloc[:, 1])\n",
    "len(dbp)"
   ]
  },
  {
   "cell_type": "code",
   "execution_count": 6,
   "metadata": {},
   "outputs": [
    {
     "data": {
      "text/plain": [
       "1508"
      ]
     },
     "execution_count": 6,
     "metadata": {},
     "output_type": "execute_result"
    }
   ],
   "source": [
    "len(dbp.intersection(dbprots))"
   ]
  },
  {
   "cell_type": "code",
   "execution_count": 23,
   "metadata": {},
   "outputs": [],
   "source": [
    "dbs = db.sample(1000)\n",
    "dfs = pd.read_csv(\"fly.s.tsv\", sep = \"\\t\", header = None).sample(2000)"
   ]
  },
  {
   "cell_type": "code",
   "execution_count": 26,
   "metadata": {},
   "outputs": [
    {
     "data": {
      "text/plain": [
       "(562, 740)"
      ]
     },
     "execution_count": 26,
     "metadata": {},
     "output_type": "execute_result"
    }
   ],
   "source": [
    "import networkx as nx\n",
    "Gb = nx.from_pandas_edgelist(dbs, 0, 1)\n",
    "Gf = nx.from_pandas_edgelist(dfs, 0, 1)\n",
    "\n",
    "bcc = max(nx.connected_components(Gb), key = len)\n",
    "bff = max(nx.connected_components(Gf), key = len)\n",
    "bcc = set(bcc)\n",
    "bff = set(bff)\n",
    "\n",
    "len(bcc), len(bff)"
   ]
  },
  {
   "cell_type": "code",
   "execution_count": 30,
   "metadata": {},
   "outputs": [
    {
     "data": {
      "text/plain": [
       "True"
      ]
     },
     "execution_count": 30,
     "metadata": {},
     "output_type": "execute_result"
    }
   ],
   "source": [
    "'O14455' in bcc"
   ]
  },
  {
   "cell_type": "code",
   "execution_count": 32,
   "metadata": {},
   "outputs": [
    {
     "data": {
      "text/html": [
       "<div>\n",
       "<style scoped>\n",
       "    .dataframe tbody tr th:only-of-type {\n",
       "        vertical-align: middle;\n",
       "    }\n",
       "\n",
       "    .dataframe tbody tr th {\n",
       "        vertical-align: top;\n",
       "    }\n",
       "\n",
       "    .dataframe thead th {\n",
       "        text-align: right;\n",
       "    }\n",
       "</style>\n",
       "<table border=\"1\" class=\"dataframe\">\n",
       "  <thead>\n",
       "    <tr style=\"text-align: right;\">\n",
       "      <th></th>\n",
       "      <th>0</th>\n",
       "      <th>1</th>\n",
       "    </tr>\n",
       "  </thead>\n",
       "  <tbody>\n",
       "    <tr>\n",
       "      <th>99607</th>\n",
       "      <td>P50875</td>\n",
       "      <td>P06844</td>\n",
       "    </tr>\n",
       "    <tr>\n",
       "      <th>101989</th>\n",
       "      <td>P32328</td>\n",
       "      <td>P32565</td>\n",
       "    </tr>\n",
       "    <tr>\n",
       "      <th>19228</th>\n",
       "      <td>P38249</td>\n",
       "      <td>P02557</td>\n",
       "    </tr>\n",
       "    <tr>\n",
       "      <th>86074</th>\n",
       "      <td>Q12398</td>\n",
       "      <td>P02829</td>\n",
       "    </tr>\n",
       "    <tr>\n",
       "      <th>90567</th>\n",
       "      <td>P35177</td>\n",
       "      <td>Q02201</td>\n",
       "    </tr>\n",
       "    <tr>\n",
       "      <th>...</th>\n",
       "      <td>...</td>\n",
       "      <td>...</td>\n",
       "    </tr>\n",
       "    <tr>\n",
       "      <th>1671</th>\n",
       "      <td>Q02754</td>\n",
       "      <td>P15938</td>\n",
       "    </tr>\n",
       "    <tr>\n",
       "      <th>60011</th>\n",
       "      <td>P47042</td>\n",
       "      <td>P24783</td>\n",
       "    </tr>\n",
       "    <tr>\n",
       "      <th>41981</th>\n",
       "      <td>P40303</td>\n",
       "      <td>P25043</td>\n",
       "    </tr>\n",
       "    <tr>\n",
       "      <th>85768</th>\n",
       "      <td>P15108</td>\n",
       "      <td>P14540</td>\n",
       "    </tr>\n",
       "    <tr>\n",
       "      <th>17159</th>\n",
       "      <td>P38934</td>\n",
       "      <td>P36105</td>\n",
       "    </tr>\n",
       "  </tbody>\n",
       "</table>\n",
       "<p>593 rows × 2 columns</p>\n",
       "</div>"
      ],
      "text/plain": [
       "             0       1\n",
       "99607   P50875  P06844\n",
       "101989  P32328  P32565\n",
       "19228   P38249  P02557\n",
       "86074   Q12398  P02829\n",
       "90567   P35177  Q02201\n",
       "...        ...     ...\n",
       "1671    Q02754  P15938\n",
       "60011   P47042  P24783\n",
       "41981   P40303  P25043\n",
       "85768   P15108  P14540\n",
       "17159   P38934  P36105\n",
       "\n",
       "[593 rows x 2 columns]"
      ]
     },
     "execution_count": 32,
     "metadata": {},
     "output_type": "execute_result"
    }
   ],
   "source": [
    "dbs = dbs.loc[dbs[0].apply(lambda x: x in bcc) & dbs[1].apply(lambda x: x in bcc), :]\n",
    "dbs"
   ]
  },
  {
   "cell_type": "code",
   "execution_count": 33,
   "metadata": {},
   "outputs": [
    {
     "data": {
      "text/html": [
       "<div>\n",
       "<style scoped>\n",
       "    .dataframe tbody tr th:only-of-type {\n",
       "        vertical-align: middle;\n",
       "    }\n",
       "\n",
       "    .dataframe tbody tr th {\n",
       "        vertical-align: top;\n",
       "    }\n",
       "\n",
       "    .dataframe thead th {\n",
       "        text-align: right;\n",
       "    }\n",
       "</style>\n",
       "<table border=\"1\" class=\"dataframe\">\n",
       "  <thead>\n",
       "    <tr style=\"text-align: right;\">\n",
       "      <th></th>\n",
       "      <th>0</th>\n",
       "      <th>1</th>\n",
       "    </tr>\n",
       "  </thead>\n",
       "  <tbody>\n",
       "    <tr>\n",
       "      <th>36959</th>\n",
       "      <td>Q24142</td>\n",
       "      <td>A0A0B4JD55</td>\n",
       "    </tr>\n",
       "    <tr>\n",
       "      <th>18451</th>\n",
       "      <td>Q9VJM1</td>\n",
       "      <td>Q9W0F5</td>\n",
       "    </tr>\n",
       "    <tr>\n",
       "      <th>44319</th>\n",
       "      <td>Q4QPV8</td>\n",
       "      <td>Q9VIH8</td>\n",
       "    </tr>\n",
       "    <tr>\n",
       "      <th>44164</th>\n",
       "      <td>P82701</td>\n",
       "      <td>Q8MLR5</td>\n",
       "    </tr>\n",
       "    <tr>\n",
       "      <th>29902</th>\n",
       "      <td>Q9W258</td>\n",
       "      <td>P83100</td>\n",
       "    </tr>\n",
       "    <tr>\n",
       "      <th>...</th>\n",
       "      <td>...</td>\n",
       "      <td>...</td>\n",
       "    </tr>\n",
       "    <tr>\n",
       "      <th>14727</th>\n",
       "      <td>Q9W330</td>\n",
       "      <td>Q9VJU5</td>\n",
       "    </tr>\n",
       "    <tr>\n",
       "      <th>2768</th>\n",
       "      <td>Q9VU58</td>\n",
       "      <td>Q9VUT3</td>\n",
       "    </tr>\n",
       "    <tr>\n",
       "      <th>19093</th>\n",
       "      <td>Q9VHC7</td>\n",
       "      <td>P92208</td>\n",
       "    </tr>\n",
       "    <tr>\n",
       "      <th>26086</th>\n",
       "      <td>Q24568</td>\n",
       "      <td>Q9VIF5</td>\n",
       "    </tr>\n",
       "    <tr>\n",
       "      <th>37130</th>\n",
       "      <td>Q24142</td>\n",
       "      <td>A0A0B4KGW2</td>\n",
       "    </tr>\n",
       "  </tbody>\n",
       "</table>\n",
       "<p>754 rows × 2 columns</p>\n",
       "</div>"
      ],
      "text/plain": [
       "            0           1\n",
       "36959  Q24142  A0A0B4JD55\n",
       "18451  Q9VJM1      Q9W0F5\n",
       "44319  Q4QPV8      Q9VIH8\n",
       "44164  P82701      Q8MLR5\n",
       "29902  Q9W258      P83100\n",
       "...       ...         ...\n",
       "14727  Q9W330      Q9VJU5\n",
       "2768   Q9VU58      Q9VUT3\n",
       "19093  Q9VHC7      P92208\n",
       "26086  Q24568      Q9VIF5\n",
       "37130  Q24142  A0A0B4KGW2\n",
       "\n",
       "[754 rows x 2 columns]"
      ]
     },
     "execution_count": 33,
     "metadata": {},
     "output_type": "execute_result"
    }
   ],
   "source": [
    "dfs = dfs.loc[dfs[0].apply(lambda x: x in bff) & dfs[1].apply(lambda x: x in bff), :]\n",
    "dfs"
   ]
  },
  {
   "cell_type": "code",
   "execution_count": 34,
   "metadata": {},
   "outputs": [],
   "source": [
    "dbs.to_csv(\"../test/bakers.s.tsv\", sep = \"\\t\", header = None, index = None)\n",
    "dfs.to_csv(\"../test/fly.s.tsv\", sep = \"\\t\", header = None, index = None)\n"
   ]
  },
  {
   "cell_type": "code",
   "execution_count": 38,
   "metadata": {},
   "outputs": [
    {
     "data": {
      "text/html": [
       "<div>\n",
       "<style scoped>\n",
       "    .dataframe tbody tr th:only-of-type {\n",
       "        vertical-align: middle;\n",
       "    }\n",
       "\n",
       "    .dataframe tbody tr th {\n",
       "        vertical-align: top;\n",
       "    }\n",
       "\n",
       "    .dataframe thead th {\n",
       "        text-align: right;\n",
       "    }\n",
       "</style>\n",
       "<table border=\"1\" class=\"dataframe\">\n",
       "  <thead>\n",
       "    <tr style=\"text-align: right;\">\n",
       "      <th></th>\n",
       "      <th>fly</th>\n",
       "      <th>bakers</th>\n",
       "      <th>score</th>\n",
       "    </tr>\n",
       "  </thead>\n",
       "  <tbody>\n",
       "    <tr>\n",
       "      <th>314</th>\n",
       "      <td>O18388</td>\n",
       "      <td>Q06142</td>\n",
       "      <td>0.221090</td>\n",
       "    </tr>\n",
       "    <tr>\n",
       "      <th>347</th>\n",
       "      <td>O18640</td>\n",
       "      <td>P16649</td>\n",
       "      <td>0.035174</td>\n",
       "    </tr>\n",
       "    <tr>\n",
       "      <th>350</th>\n",
       "      <td>O18640</td>\n",
       "      <td>P25635</td>\n",
       "      <td>0.031019</td>\n",
       "    </tr>\n",
       "    <tr>\n",
       "      <th>351</th>\n",
       "      <td>O18640</td>\n",
       "      <td>P36037</td>\n",
       "      <td>0.033602</td>\n",
       "    </tr>\n",
       "    <tr>\n",
       "      <th>353</th>\n",
       "      <td>O18640</td>\n",
       "      <td>P38129</td>\n",
       "      <td>0.040521</td>\n",
       "    </tr>\n",
       "    <tr>\n",
       "      <th>...</th>\n",
       "      <td>...</td>\n",
       "      <td>...</td>\n",
       "      <td>...</td>\n",
       "    </tr>\n",
       "    <tr>\n",
       "      <th>8298</th>\n",
       "      <td>Q9W4X7</td>\n",
       "      <td>Q04067</td>\n",
       "      <td>0.056398</td>\n",
       "    </tr>\n",
       "    <tr>\n",
       "      <th>8334</th>\n",
       "      <td>Q9XZJ4</td>\n",
       "      <td>P21243</td>\n",
       "      <td>0.113507</td>\n",
       "    </tr>\n",
       "    <tr>\n",
       "      <th>8335</th>\n",
       "      <td>Q9XZJ4</td>\n",
       "      <td>P23638</td>\n",
       "      <td>0.073223</td>\n",
       "    </tr>\n",
       "    <tr>\n",
       "      <th>8337</th>\n",
       "      <td>Q9XZJ4</td>\n",
       "      <td>P32379</td>\n",
       "      <td>0.055450</td>\n",
       "    </tr>\n",
       "    <tr>\n",
       "      <th>8339</th>\n",
       "      <td>Q9XZJ4</td>\n",
       "      <td>P40303</td>\n",
       "      <td>0.058768</td>\n",
       "    </tr>\n",
       "  </tbody>\n",
       "</table>\n",
       "<p>133 rows × 3 columns</p>\n",
       "</div>"
      ],
      "text/plain": [
       "         fly  bakers     score\n",
       "314   O18388  Q06142  0.221090\n",
       "347   O18640  P16649  0.035174\n",
       "350   O18640  P25635  0.031019\n",
       "351   O18640  P36037  0.033602\n",
       "353   O18640  P38129  0.040521\n",
       "...      ...     ...       ...\n",
       "8298  Q9W4X7  Q04067  0.056398\n",
       "8334  Q9XZJ4  P21243  0.113507\n",
       "8335  Q9XZJ4  P23638  0.073223\n",
       "8337  Q9XZJ4  P32379  0.055450\n",
       "8339  Q9XZJ4  P40303  0.058768\n",
       "\n",
       "[133 rows x 3 columns]"
      ]
     },
     "execution_count": 38,
     "metadata": {},
     "output_type": "execute_result"
    }
   ],
   "source": [
    "dfb1 = dfb.loc[dfb.iloc[:, 0].apply(lambda x:x in bff) & dfb.iloc[:, 1].apply(lambda x:x in bcc)]\n",
    "dfb1"
   ]
  },
  {
   "cell_type": "code",
   "execution_count": 39,
   "metadata": {},
   "outputs": [],
   "source": [
    "dfb1.to_csv(\"../test/fly-bakers.tsv\", sep = \"\\t\", index = None)"
   ]
  },
  {
   "cell_type": "code",
   "execution_count": null,
   "metadata": {},
   "outputs": [],
   "source": []
  }
 ],
 "metadata": {
  "kernelspec": {
   "display_name": "denoise",
   "language": "python",
   "name": "denoise"
  },
  "language_info": {
   "codemirror_mode": {
    "name": "ipython",
    "version": 3
   },
   "file_extension": ".py",
   "mimetype": "text/x-python",
   "name": "python",
   "nbconvert_exporter": "python",
   "pygments_lexer": "ipython3",
   "version": "3.7.6"
  }
 },
 "nbformat": 4,
 "nbformat_minor": 2
}
