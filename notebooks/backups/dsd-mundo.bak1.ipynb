{
 "cells": [
  {
   "cell_type": "code",
   "execution_count": 1,
   "metadata": {},
   "outputs": [],
   "source": [
    "import glidetools.algorithm.dsd as dsd\n",
    "import pandas as pd\n",
    "import numpy as np\n",
    "import sys\n",
    "import json\n",
    "from scipy.spatial.distance import cdist\n",
    "sys.path.append(\"../src/\")\n",
    "%load_ext autoreload\n",
    "%autoreload 2"
   ]
  },
  {
   "cell_type": "markdown",
   "metadata": {},
   "source": [
    "# Compute DSD matrix of rat and yeast"
   ]
  },
  {
   "cell_type": "code",
   "execution_count": 2,
   "metadata": {},
   "outputs": [
    {
     "data": {
      "text/html": [
       "<div>\n",
       "<style scoped>\n",
       "    .dataframe tbody tr th:only-of-type {\n",
       "        vertical-align: middle;\n",
       "    }\n",
       "\n",
       "    .dataframe tbody tr th {\n",
       "        vertical-align: top;\n",
       "    }\n",
       "\n",
       "    .dataframe thead th {\n",
       "        text-align: right;\n",
       "    }\n",
       "</style>\n",
       "<table border=\"1\" class=\"dataframe\">\n",
       "  <thead>\n",
       "    <tr style=\"text-align: right;\">\n",
       "      <th></th>\n",
       "      <th>0</th>\n",
       "      <th>1</th>\n",
       "    </tr>\n",
       "  </thead>\n",
       "  <tbody>\n",
       "    <tr>\n",
       "      <th>0</th>\n",
       "      <td>P08539</td>\n",
       "      <td>P18851</td>\n",
       "    </tr>\n",
       "    <tr>\n",
       "      <th>1</th>\n",
       "      <td>P11433</td>\n",
       "      <td>P18852</td>\n",
       "    </tr>\n",
       "    <tr>\n",
       "      <th>2</th>\n",
       "      <td>P11433</td>\n",
       "      <td>P21268</td>\n",
       "    </tr>\n",
       "    <tr>\n",
       "      <th>3</th>\n",
       "      <td>P11433</td>\n",
       "      <td>P18851</td>\n",
       "    </tr>\n",
       "    <tr>\n",
       "      <th>4</th>\n",
       "      <td>P18851</td>\n",
       "      <td>P18852</td>\n",
       "    </tr>\n",
       "    <tr>\n",
       "      <th>...</th>\n",
       "      <td>...</td>\n",
       "      <td>...</td>\n",
       "    </tr>\n",
       "    <tr>\n",
       "      <th>109681</th>\n",
       "      <td>Q07821</td>\n",
       "      <td>Q12425</td>\n",
       "    </tr>\n",
       "    <tr>\n",
       "      <th>109682</th>\n",
       "      <td>P47158</td>\n",
       "      <td>Q12425</td>\n",
       "    </tr>\n",
       "    <tr>\n",
       "      <th>109683</th>\n",
       "      <td>P47158</td>\n",
       "      <td>Q07821</td>\n",
       "    </tr>\n",
       "    <tr>\n",
       "      <th>109684</th>\n",
       "      <td>P47158</td>\n",
       "      <td>Q12425</td>\n",
       "    </tr>\n",
       "    <tr>\n",
       "      <th>109685</th>\n",
       "      <td>P47158</td>\n",
       "      <td>Q07821</td>\n",
       "    </tr>\n",
       "  </tbody>\n",
       "</table>\n",
       "<p>109686 rows × 2 columns</p>\n",
       "</div>"
      ],
      "text/plain": [
       "             0       1\n",
       "0       P08539  P18851\n",
       "1       P11433  P18852\n",
       "2       P11433  P21268\n",
       "3       P11433  P18851\n",
       "4       P18851  P18852\n",
       "...        ...     ...\n",
       "109681  Q07821  Q12425\n",
       "109682  P47158  Q12425\n",
       "109683  P47158  Q07821\n",
       "109684  P47158  Q12425\n",
       "109685  P47158  Q07821\n",
       "\n",
       "[109686 rows x 2 columns]"
      ]
     },
     "execution_count": 2,
     "metadata": {},
     "output_type": "execute_result"
    }
   ],
   "source": [
    "ratdf = pd.read_csv(\"../data/intact_output/rat.s.tsv\", sep = \"\\t\", header = None)\n",
    "yeastdf = pd.read_csv(\"../data/intact_output/bakers.s.tsv\", sep = \"\\t\", header = None)\n",
    "yeastdf"
   ]
  },
  {
   "cell_type": "code",
   "execution_count": 15,
   "metadata": {},
   "outputs": [
    {
     "name": "stdout",
     "output_type": "stream",
     "text": [
      "       rat  bakers     score\n",
      "0     6550    4766  0.120443\n",
      "1     6550    3397  0.123143\n",
      "2     6550    2106  0.088307\n",
      "3     6550     713  0.066973\n",
      "4     6550     272  0.045153\n",
      "...    ...     ...       ...\n",
      "8601  1103    3705  0.047313\n",
      "8602  1103     106  0.039103\n",
      "8603  1103    4691  0.037213\n",
      "8604  1103    1472  0.048879\n",
      "8605  6446     626  0.154739\n",
      "\n",
      "[8606 rows x 3 columns]\n"
     ]
    }
   ],
   "source": [
    "from io_utils import compute_adjacency, compute_pairs\n",
    "Ay, yeastmap = compute_adjacency(yeastdf)\n",
    "Ar, ratmap = compute_adjacency(ratdf)\n",
    "dyb = pd.read_csv(\"../data/intact_output/rat-bakers.tsv\", sep = \"\\t\")\n",
    "Erb = compute_pairs(dyb, ratmap, yeastmap, \"rat\", \"bakers\")\n",
    "\n",
    "# (df, nmapA, nmapB, orgA, orgB)\n",
    "# import json\n",
    "# with open(\"yeast.json\", \"w\") as yj, open(\"rat.json\", \"w\") as rj:\n",
    "#     json.dump(yeastmap, yj)\n",
    "#     json.dump(ratmap, rj)"
   ]
  },
  {
   "cell_type": "code",
   "execution_count": 19,
   "metadata": {},
   "outputs": [],
   "source": [
    "rratmap = {val: key for key, val in ratmap.items()}\n",
    "ryeastmap = {val: key for key, val in yeastmap.items()}"
   ]
  },
  {
   "cell_type": "code",
   "execution_count": 16,
   "metadata": {},
   "outputs": [],
   "source": [
    "def compute_isorank(A1, A2, E, alpha, maxiter = 20, get_R0 = False, get_R1 = False):\n",
    "    \"\"\"\n",
    "    Compute the isorank using the eigendecomposition\n",
    "    \"\"\"\n",
    "\n",
    "    d1 = np.sum(A1, axis = 1).reshape(-1, 1)\n",
    "    d2 = np.sum(A2, axis = 1).reshape(-1, 1)\n",
    "    \n",
    "    P1 = A1 / d1.T\n",
    "    P2 = A2 / d2.T\n",
    "    \n",
    "    E = E / np.sum(E)\n",
    "    \n",
    "    d = d1 @ d2.T \n",
    "    d = d / (np.sum(d1) * np.sum(d2))\n",
    "    \n",
    "    R = (1-alpha) * d + alpha * E\n",
    "    \n",
    "    if maxiter <= 0:\n",
    "        return R\n",
    "    \n",
    "    if get_R0:\n",
    "        R0 = R.copy()\n",
    "    \n",
    "    # Reshape R and E\n",
    "    R = R.T\n",
    "    E = E.T\n",
    "    \n",
    "    for i in range(maxiter):\n",
    "        R = (1-alpha) * (P2 @ R @ P1.T) + alpha * E\n",
    "        if get_R1 and i == 0:\n",
    "            R1 = R.T.copy()\n",
    "            \n",
    "    payload = [R.T]\n",
    "    if get_R1:\n",
    "        payload = [R1] + payload\n",
    "    if get_R0:\n",
    "        payload = [R0] + payload\n",
    "    return payload\n",
    "\n",
    "def compute_greedy_assignment(R1, n_align):\n",
    "    \"\"\"\n",
    "    Compute greedy assignment\n",
    "    \"\"\"\n",
    "    aligned = []\n",
    "    R = R1.copy()\n",
    "    \n",
    "    n_align = min(n_align, *R.shape)\n",
    "    \n",
    "    itr = 1\n",
    "    while(len(aligned) < n_align):\n",
    "        itr   += 1\n",
    "        maxcols = np.argmax(R, axis = 1) # best y ids\n",
    "        maxid = np.argmax(np.max(R, axis = 1)) # best x id\n",
    "        maxcol = maxcols[maxid]\n",
    "        aligned.append((maxid, maxcol))\n",
    "        R[:, maxcol] = -1\n",
    "        R[maxid, :]  = -1\n",
    "    return aligned\n",
    "\n",
    "\n",
    "R0 = compute_isorank(Ar, Ay, Erb, 0.6, -1, get_R0 = False, get_R1 = False)\n",
    "pairs = compute_greedy_assignment(R0, 1000)"
   ]
  },
  {
   "cell_type": "code",
   "execution_count": 22,
   "metadata": {},
   "outputs": [],
   "source": [
    "diso_rat_yeast = pd.DataFrame(pairs, columns = [\"rat\", \"bakers\"])\n",
    "diso_rat_yeast.iloc[:, 0] = diso_rat_yeast.iloc[:, 0].apply(lambda x : rratmap[x])\n",
    "diso_rat_yeast.iloc[:, 1] = diso_rat_yeast.iloc[:, 1].apply(lambda x : ryeastmap[x])\n",
    "diso_rat_yeast.to_csv(\"isorank_rat_bakers.tsv\", sep = \"\\t\", index = None)"
   ]
  },
  {
   "cell_type": "markdown",
   "metadata": {},
   "source": [
    "# Load JSON from file"
   ]
  },
  {
   "cell_type": "code",
   "execution_count": 68,
   "metadata": {},
   "outputs": [
    {
     "data": {
      "text/plain": [
       "[('P38207', 0),\n",
       " ('Q01919', 1),\n",
       " ('P42840', 2),\n",
       " ('P36069', 3),\n",
       " ('P35187', 4),\n",
       " ('P53273', 5),\n",
       " ('Q07410', 6),\n",
       " ('P36009', 7),\n",
       " ('P11076', 8),\n",
       " ('P22135', 9)]"
      ]
     },
     "execution_count": 68,
     "metadata": {},
     "output_type": "execute_result"
    }
   ],
   "source": [
    "list(yeastmap.items())[:10]"
   ]
  },
  {
   "cell_type": "code",
   "execution_count": 10,
   "metadata": {},
   "outputs": [
    {
     "data": {
      "text/plain": [
       "[('P38207', 0),\n",
       " ('Q01919', 1),\n",
       " ('P42840', 2),\n",
       " ('P36069', 3),\n",
       " ('P35187', 4),\n",
       " ('P53273', 5),\n",
       " ('Q07410', 6),\n",
       " ('P36009', 7),\n",
       " ('P11076', 8),\n",
       " ('P22135', 9)]"
      ]
     },
     "execution_count": 10,
     "metadata": {},
     "output_type": "execute_result"
    }
   ],
   "source": [
    "with open(\"yeast.json\", \"r\") as yj, open(\"rat.json\", \"r\") as rj:\n",
    "    yeastmap = json.load(yj)\n",
    "    ratmap = json.load(rj)\n",
    "list(yeastmap.items())[:10]"
   ]
  },
  {
   "cell_type": "markdown",
   "metadata": {},
   "source": [
    "# Compute DSD matrix"
   ]
  },
  {
   "cell_type": "code",
   "execution_count": 34,
   "metadata": {},
   "outputs": [],
   "source": [
    "ADyeast = dsd.compute_dsd_embedding(Ay, is_normalized=False)"
   ]
  },
  {
   "cell_type": "code",
   "execution_count": 35,
   "metadata": {},
   "outputs": [],
   "source": [
    "# np.save(\"yeast-dsd-emb.npy\", ADyeast)\n",
    "ADrat = dsd.compute_dsd_embedding(Ar, is_normalized = False)"
   ]
  },
  {
   "cell_type": "code",
   "execution_count": 36,
   "metadata": {},
   "outputs": [],
   "source": [
    "# np.save(\"rat-dsd-emb.npy\", ADrat)"
   ]
  },
  {
   "cell_type": "markdown",
   "metadata": {},
   "source": [
    "# Load the DSD matrix"
   ]
  },
  {
   "cell_type": "code",
   "execution_count": 3,
   "metadata": {},
   "outputs": [],
   "source": [
    "ADrat = np.load(\"rat-dsd-emb.npy\")\n",
    "ADyeast = np.load(\"yeast-dsd-emb.npy\")"
   ]
  },
  {
   "cell_type": "code",
   "execution_count": 4,
   "metadata": {},
   "outputs": [],
   "source": [
    "from scipy.spatial.distance import pdist, squareform\n",
    "\n",
    "Drat = squareform(pdist(ADrat))\n",
    "Dyeast = squareform(pdist(ADyeast))"
   ]
  },
  {
   "cell_type": "code",
   "execution_count": 4,
   "metadata": {},
   "outputs": [],
   "source": [
    "# np.save(\"rat-dsd-dist.npy\", Drat)\n",
    "# np.save(\"yeast-dsd-dist.npy\", Dyeast)\n",
    "Drat = np.load(\"rat-dsd-dist.npy\")\n",
    "Dyeast = np.load(\"yeast-dsd-dist.npy\")"
   ]
  },
  {
   "cell_type": "markdown",
   "metadata": {},
   "source": [
    "# Load the GO files for the Yeast network"
   ]
  },
  {
   "cell_type": "code",
   "execution_count": 5,
   "metadata": {},
   "outputs": [
    {
     "data": {
      "text/html": [
       "<div>\n",
       "<style scoped>\n",
       "    .dataframe tbody tr th:only-of-type {\n",
       "        vertical-align: middle;\n",
       "    }\n",
       "\n",
       "    .dataframe tbody tr th {\n",
       "        vertical-align: top;\n",
       "    }\n",
       "\n",
       "    .dataframe thead th {\n",
       "        text-align: right;\n",
       "    }\n",
       "</style>\n",
       "<table border=\"1\" class=\"dataframe\">\n",
       "  <thead>\n",
       "    <tr style=\"text-align: right;\">\n",
       "      <th></th>\n",
       "      <th>GO</th>\n",
       "      <th>type</th>\n",
       "      <th>sgd</th>\n",
       "      <th>swissprot</th>\n",
       "    </tr>\n",
       "  </thead>\n",
       "  <tbody>\n",
       "    <tr>\n",
       "      <th>0</th>\n",
       "      <td>GO:0000006</td>\n",
       "      <td>molecular_function</td>\n",
       "      <td>S000003224</td>\n",
       "      <td>P32804</td>\n",
       "    </tr>\n",
       "    <tr>\n",
       "      <th>1</th>\n",
       "      <td>GO:0000006</td>\n",
       "      <td>molecular_function</td>\n",
       "      <td>S000003224</td>\n",
       "      <td>P32804</td>\n",
       "    </tr>\n",
       "    <tr>\n",
       "      <th>2</th>\n",
       "      <td>GO:0000007</td>\n",
       "      <td>molecular_function</td>\n",
       "      <td>S000004120</td>\n",
       "      <td>Q12436</td>\n",
       "    </tr>\n",
       "    <tr>\n",
       "      <th>3</th>\n",
       "      <td>GO:0000007</td>\n",
       "      <td>molecular_function</td>\n",
       "      <td>S000004120</td>\n",
       "      <td>Q12436</td>\n",
       "    </tr>\n",
       "    <tr>\n",
       "      <th>4</th>\n",
       "      <td>GO:0000009</td>\n",
       "      <td>molecular_function</td>\n",
       "      <td>S000000208</td>\n",
       "      <td>P38211</td>\n",
       "    </tr>\n",
       "    <tr>\n",
       "      <th>...</th>\n",
       "      <td>...</td>\n",
       "      <td>...</td>\n",
       "      <td>...</td>\n",
       "      <td>...</td>\n",
       "    </tr>\n",
       "    <tr>\n",
       "      <th>61177</th>\n",
       "      <td>GO:1990468</td>\n",
       "      <td>cellular_component</td>\n",
       "      <td>S000004447</td>\n",
       "      <td>Q06188</td>\n",
       "    </tr>\n",
       "    <tr>\n",
       "      <th>61178</th>\n",
       "      <td>GO:1990468</td>\n",
       "      <td>cellular_component</td>\n",
       "      <td>S000006235</td>\n",
       "      <td>Q12311</td>\n",
       "    </tr>\n",
       "    <tr>\n",
       "      <th>61179</th>\n",
       "      <td>GO:1990537</td>\n",
       "      <td>cellular_component</td>\n",
       "      <td>S000003345</td>\n",
       "      <td>P53267</td>\n",
       "    </tr>\n",
       "    <tr>\n",
       "      <th>61180</th>\n",
       "      <td>GO:1990860</td>\n",
       "      <td>cellular_component</td>\n",
       "      <td>S000005952</td>\n",
       "      <td>P17157</td>\n",
       "    </tr>\n",
       "    <tr>\n",
       "      <th>61181</th>\n",
       "      <td>GO:1990860</td>\n",
       "      <td>cellular_component</td>\n",
       "      <td>S000005361</td>\n",
       "      <td>P20052</td>\n",
       "    </tr>\n",
       "  </tbody>\n",
       "</table>\n",
       "<p>61182 rows × 4 columns</p>\n",
       "</div>"
      ],
      "text/plain": [
       "               GO                type         sgd swissprot\n",
       "0      GO:0000006  molecular_function  S000003224    P32804\n",
       "1      GO:0000006  molecular_function  S000003224    P32804\n",
       "2      GO:0000007  molecular_function  S000004120    Q12436\n",
       "3      GO:0000007  molecular_function  S000004120    Q12436\n",
       "4      GO:0000009  molecular_function  S000000208    P38211\n",
       "...           ...                 ...         ...       ...\n",
       "61177  GO:1990468  cellular_component  S000004447    Q06188\n",
       "61178  GO:1990468  cellular_component  S000006235    Q12311\n",
       "61179  GO:1990537  cellular_component  S000003345    P53267\n",
       "61180  GO:1990860  cellular_component  S000005952    P17157\n",
       "61181  GO:1990860  cellular_component  S000005361    P20052\n",
       "\n",
       "[61182 rows x 4 columns]"
      ]
     },
     "execution_count": 5,
     "metadata": {},
     "output_type": "execute_result"
    }
   ],
   "source": [
    "ynet = pd.read_csv(\"../data/go/bakers.output.mapping.gaf\", sep = \"\\t\")\n",
    "ynet"
   ]
  },
  {
   "cell_type": "code",
   "execution_count": 6,
   "metadata": {},
   "outputs": [
    {
     "data": {
      "text/html": [
       "<div>\n",
       "<style scoped>\n",
       "    .dataframe tbody tr th:only-of-type {\n",
       "        vertical-align: middle;\n",
       "    }\n",
       "\n",
       "    .dataframe tbody tr th {\n",
       "        vertical-align: top;\n",
       "    }\n",
       "\n",
       "    .dataframe thead th {\n",
       "        text-align: right;\n",
       "    }\n",
       "</style>\n",
       "<table border=\"1\" class=\"dataframe\">\n",
       "  <thead>\n",
       "    <tr style=\"text-align: right;\">\n",
       "      <th></th>\n",
       "      <th>GO</th>\n",
       "      <th>type</th>\n",
       "      <th>rgd</th>\n",
       "      <th>swissprot</th>\n",
       "    </tr>\n",
       "  </thead>\n",
       "  <tbody>\n",
       "    <tr>\n",
       "      <th>0</th>\n",
       "      <td>GO:0000009</td>\n",
       "      <td>molecular_function</td>\n",
       "      <td>1309526</td>\n",
       "      <td>Q5KR61</td>\n",
       "    </tr>\n",
       "    <tr>\n",
       "      <th>1</th>\n",
       "      <td>GO:0000010</td>\n",
       "      <td>molecular_function</td>\n",
       "      <td>1359372</td>\n",
       "      <td>Q5U2R1</td>\n",
       "    </tr>\n",
       "    <tr>\n",
       "      <th>2</th>\n",
       "      <td>GO:0000010</td>\n",
       "      <td>molecular_function</td>\n",
       "      <td>1359372</td>\n",
       "      <td>Q5U2R1</td>\n",
       "    </tr>\n",
       "    <tr>\n",
       "      <th>3</th>\n",
       "      <td>GO:0000014</td>\n",
       "      <td>molecular_function</td>\n",
       "      <td>1308872</td>\n",
       "      <td>B1WC58</td>\n",
       "    </tr>\n",
       "    <tr>\n",
       "      <th>4</th>\n",
       "      <td>GO:0000014</td>\n",
       "      <td>molecular_function</td>\n",
       "      <td>1565882</td>\n",
       "      <td>Q5I0M0</td>\n",
       "    </tr>\n",
       "    <tr>\n",
       "      <th>...</th>\n",
       "      <td>...</td>\n",
       "      <td>...</td>\n",
       "      <td>...</td>\n",
       "      <td>...</td>\n",
       "    </tr>\n",
       "    <tr>\n",
       "      <th>133498</th>\n",
       "      <td>GO:1990780</td>\n",
       "      <td>cellular_component</td>\n",
       "      <td>632281</td>\n",
       "      <td>O35274</td>\n",
       "    </tr>\n",
       "    <tr>\n",
       "      <th>133499</th>\n",
       "      <td>GO:1990812</td>\n",
       "      <td>cellular_component</td>\n",
       "      <td>2122</td>\n",
       "      <td>P46933</td>\n",
       "    </tr>\n",
       "    <tr>\n",
       "      <th>133500</th>\n",
       "      <td>GO:1990812</td>\n",
       "      <td>cellular_component</td>\n",
       "      <td>2139</td>\n",
       "      <td>P08592</td>\n",
       "    </tr>\n",
       "    <tr>\n",
       "      <th>133501</th>\n",
       "      <td>GO:1990812</td>\n",
       "      <td>cellular_component</td>\n",
       "      <td>2623</td>\n",
       "      <td>Q80WE1</td>\n",
       "    </tr>\n",
       "    <tr>\n",
       "      <th>133502</th>\n",
       "      <td>GO:1990812</td>\n",
       "      <td>cellular_component</td>\n",
       "      <td>2623</td>\n",
       "      <td>Q80WE1</td>\n",
       "    </tr>\n",
       "  </tbody>\n",
       "</table>\n",
       "<p>133503 rows × 4 columns</p>\n",
       "</div>"
      ],
      "text/plain": [
       "                GO                type      rgd swissprot\n",
       "0       GO:0000009  molecular_function  1309526    Q5KR61\n",
       "1       GO:0000010  molecular_function  1359372    Q5U2R1\n",
       "2       GO:0000010  molecular_function  1359372    Q5U2R1\n",
       "3       GO:0000014  molecular_function  1308872    B1WC58\n",
       "4       GO:0000014  molecular_function  1565882    Q5I0M0\n",
       "...            ...                 ...      ...       ...\n",
       "133498  GO:1990780  cellular_component   632281    O35274\n",
       "133499  GO:1990812  cellular_component     2122    P46933\n",
       "133500  GO:1990812  cellular_component     2139    P08592\n",
       "133501  GO:1990812  cellular_component     2623    Q80WE1\n",
       "133502  GO:1990812  cellular_component     2623    Q80WE1\n",
       "\n",
       "[133503 rows x 4 columns]"
      ]
     },
     "execution_count": 6,
     "metadata": {},
     "output_type": "execute_result"
    }
   ],
   "source": [
    "rnet = pd.read_csv(\"../data/go/rat.output.mapping.gaf\", sep = \"\\t\")\n",
    "rnet"
   ]
  },
  {
   "cell_type": "code",
   "execution_count": 7,
   "metadata": {},
   "outputs": [
    {
     "data": {
      "text/plain": [
       "array([['A0A096MJN4',\n",
       "        list(['GO:0000287', 'GO:0003924', 'GO:0005525', 'GO:0005525', 'GO:0005525', 'GO:0005525', 'GO:0030382', 'GO:0031398', 'GO:0043065', 'GO:2000647', 'GO:2001244', 'GO:0005739', 'GO:0005856', 'GO:0030424', 'GO:0030425', 'GO:0031514', 'GO:0036126'])],\n",
       "       ['A0A096MJY4',\n",
       "        list(['GO:0000976', 'GO:0000976', 'GO:0000977', 'GO:0000977', 'GO:0000977', 'GO:0000977', 'GO:0000977', 'GO:0000977', 'GO:0000978', 'GO:0000987', 'GO:0003680', 'GO:0003680', 'GO:0043565', 'GO:0061629', 'GO:0061629', 'GO:1990837', 'GO:0000122', 'GO:0000122', 'GO:0000122', 'GO:0000122', 'GO:0001947', 'GO:0001947', 'GO:0002634', 'GO:0002634', 'GO:0003138', 'GO:0003138', 'GO:0003139', 'GO:0003139', 'GO:0006351', 'GO:0006351', 'GO:0006355', 'GO:0006355', 'GO:0006357', 'GO:0007519', 'GO:0010613', 'GO:0010628', 'GO:0010628', 'GO:0010628', 'GO:0010629', 'GO:0010629', 'GO:0010694', 'GO:0010694', 'GO:0014033', 'GO:0014033', 'GO:0014902', 'GO:0014902', 'GO:0030224', 'GO:0030279', 'GO:0030279', 'GO:0030279', 'GO:0030318', 'GO:0030318', 'GO:0030501', 'GO:0030501', 'GO:0030890', 'GO:0030890', 'GO:0035984', 'GO:0035984', 'GO:0042100', 'GO:0042100', 'GO:0043406', 'GO:0043523', 'GO:0043523', 'GO:0043524', 'GO:0043524', 'GO:0043524', 'GO:0043537', 'GO:0043537', 'GO:0045652', 'GO:0045652', 'GO:0045663', 'GO:0045663', 'GO:0045663', 'GO:0045666', 'GO:0045666', 'GO:0045669', 'GO:0045669', 'GO:0045893', 'GO:0045893', 'GO:0045893', 'GO:0045893', 'GO:0045893', 'GO:0045893', 'GO:0045893', 'GO:0045893', 'GO:0045893', 'GO:0045944', 'GO:0045944', 'GO:0045944', 'GO:0045944', 'GO:0045944', 'GO:0045944', 'GO:0045944', 'GO:0045944', 'GO:0048643', 'GO:0048643', 'GO:0048643', 'GO:0048667', 'GO:0048667', 'GO:0048704', 'GO:0050680', 'GO:0050853', 'GO:0050853', 'GO:0051145', 'GO:0051963', 'GO:0051966', 'GO:0055007', 'GO:0055012', 'GO:0055012', 'GO:0060025', 'GO:0060025', 'GO:0060045', 'GO:0060045', 'GO:0060079', 'GO:0060079', 'GO:0060297', 'GO:0061333', 'GO:0061333', 'GO:0071222', 'GO:0071222', 'GO:0071277', 'GO:0071277', 'GO:0071300', 'GO:0071333', 'GO:0071374', 'GO:0071374', 'GO:0071374', 'GO:0071407', 'GO:0071560', 'GO:0071560', 'GO:0071560', 'GO:0071864', 'GO:0072160', 'GO:0072160', 'GO:0097492', 'GO:1902287', 'GO:1904706', 'GO:1904706', 'GO:1904753', 'GO:1904753', 'GO:1905563', 'GO:1905563', 'GO:2000111', 'GO:2000111', 'GO:2000310', 'GO:2000310', 'GO:2000311', 'GO:2000311', 'GO:2000727', 'GO:2000727', 'GO:2000727', 'GO:2000727', 'GO:2000727', 'GO:2000987', 'GO:2000987', 'GO:2001016', 'GO:2001016', 'GO:2001016', 'GO:0005634', 'GO:0005634', 'GO:0005634', 'GO:0005634', 'GO:0005634', 'GO:0005634', 'GO:0005634', 'GO:0005634', 'GO:0005634', 'GO:0005634'])],\n",
       "       ['A0A096MJZ0', list(['GO:0043014', 'GO:0036158', 'GO:0005874'])],\n",
       "       ...,\n",
       "       ['Q9Z336',\n",
       "        list(['GO:0000132', 'GO:0000132', 'GO:0008277', 'GO:0008277', 'GO:0010976', 'GO:0010976', 'GO:0019060', 'GO:0035022', 'GO:0035795', 'GO:0043087', 'GO:0048812', 'GO:0050768', 'GO:0050768', 'GO:0051493', 'GO:0060548', 'GO:0061564', 'GO:0070373', 'GO:0005739', 'GO:0005794', 'GO:0005819', 'GO:0005881', 'GO:0099503'])],\n",
       "       ['Q9Z339',\n",
       "        list(['GO:0050610', 'GO:0050610', 'GO:0050610', 'GO:0010880', 'GO:0010880', 'GO:0019853', 'GO:0060315', 'GO:0060315', 'GO:0060316', 'GO:0060316', 'GO:0005604', 'GO:0030424'])],\n",
       "       ['Q9Z340',\n",
       "        list(['GO:0019903', 'GO:0019903', 'GO:0032266', 'GO:0002092', 'GO:0003383', 'GO:0006612', 'GO:0010801', 'GO:0010801', 'GO:0022011', 'GO:0022011', 'GO:0031643', 'GO:0031643', 'GO:0045197', 'GO:0045197', 'GO:0070830', 'GO:0005819', 'GO:0005912', 'GO:0005923', 'GO:0005923', 'GO:0005923', 'GO:0043296', 'GO:0120157'])]],\n",
       "      dtype=object)"
      ]
     },
     "execution_count": 7,
     "metadata": {},
     "output_type": "execute_result"
    }
   ],
   "source": [
    "rnet.iloc[:, [0, 3]].groupby(\"swissprot\", as_index = False).aggregate(list).values"
   ]
  },
  {
   "cell_type": "code",
   "execution_count": 8,
   "metadata": {},
   "outputs": [],
   "source": [
    "def topk_acc(golists = {}, go = None, k = 1):\n",
    "    if len(golists) == 0:\n",
    "        return None\n",
    "    elif go == None:\n",
    "        return 0\n",
    "    else:\n",
    "        go_k = set(go[: min(k, len(go))])\n",
    "        return len(go_k.intersection(golists)) / k\n",
    "    \n",
    "def topk_accs(prots, pred_go_map, true_go_map, k = 1):\n",
    "    accs = [topk_acc(true_go_map[p], pred_go_map[p], k) for p in prots]\n",
    "    accs = list(filter(lambda x : x is not None, accs))\n",
    "    return np.average(accs)\n",
    "\n",
    "def compute_metric(prediction_func, scoring_func, allprots, true_go_map, kfold = 5):\n",
    "    np.random.seed(137)\n",
    "    permprots = np.random.permutation(allprots)\n",
    "    blocksize = int(len(allprots) / kfold)\n",
    "    scores = []\n",
    "    for i in range(kfold):\n",
    "        predictprots = permprots[i * blocksize: (i+1) * blocksize]\n",
    "        trainprots = np.concatenate([permprots[: i * blocksize], permprots[(i+1) * blocksize : ]])\n",
    "        go_map_training = {tprots: true_go_map[tprots] for tprots in trainprots}\n",
    "        go_map_training.update({pprots : -1 for pprots in predictprots})\n",
    "        pred_map = prediction_func(go_map_training)\n",
    "        scores.append(scoring_func(predictprots, pred_map, true_go_map))\n",
    "    return scores, np.average(scores)\n",
    "\n",
    "def predict_dsd(D_mat, train_go_maps, k = 10):\n",
    "    predprot = [x for x in train_go_maps if train_go_maps[x] == -1]\n",
    "    D_mat1 = D_mat.copy()\n",
    "    D_mat1[range(len(D_mat)), range(len(D_mat))] = np.inf\n",
    "    D_mat1[:, predprot] = np.inf\n",
    "    sortedD = np.argsort(D_mat1, axis = 1)[:, 1:k+1]\n",
    "    def vote(neighbors, go_maps):\n",
    "        gos = {}\n",
    "        for n in neighbors:\n",
    "            for g in go_maps[n]:\n",
    "                if g not in gos:\n",
    "                    gos[g] = 0\n",
    "                gos[g] += 1 \n",
    "        return sorted(gos, key = lambda x : gos[x], reverse=True)\n",
    "    for p in predprot:\n",
    "        train_go_maps[p] = vote(sortedD[p], train_go_maps)\n",
    "    return train_go_maps\n",
    "\n",
    "def predict_dsd_mundo(D_mat, D_other_species, train_go_maps, go_other, k = 10, k_other = 20):\n",
    "    predprot = [x for x in train_go_maps if train_go_maps[x] == -1]\n",
    "    D_mat1 = D_mat.copy()\n",
    "    D_other = D_other_species.copy()\n",
    "    D_mat1[range(len(D_mat)), range(len(D_mat))] = np.inf\n",
    "    D_mat1[:, predprot] = np.inf\n",
    "    sortedD = np.argsort(D_mat1, axis = 1)[:, 1: k+1]\n",
    "    sortedDoth = np.argsort(D_other, axis = 1)[:, 1: k_other+1]\n",
    "    def vote(neighbors, oth_neighbors,  go_maps, vote_other = 0.4):\n",
    "        gos = {}\n",
    "        for n in neighbors:\n",
    "            for g in go_maps[n]:\n",
    "                if g not in gos:\n",
    "                    gos[g] = 0\n",
    "                gos[g] += 1 \n",
    "        for n in oth_neighbors:\n",
    "            for g in go_other[n]:\n",
    "                if g not in gos:\n",
    "                    gos[g] = 0\n",
    "                gos[g] += vote_other  \n",
    "        return sorted(gos, key = lambda x : gos[x], reverse=True)\n",
    "    for p in predprot:\n",
    "        train_go_maps[p] = vote(sortedD[p], sortedDoth[p], train_go_maps)\n",
    "    return train_go_maps\n",
    "\n",
    "def dsd_func(D_mat, k = 10):\n",
    "    def pred(train_go_maps):\n",
    "        return predict_dsd(D_mat, train_go_maps, k = k)\n",
    "    return pred\n",
    "\n",
    "def dsd_func_mundo(D_mat, D_other, go_other, k = 10, k_other = 20):\n",
    "    def pred(train_go_maps):\n",
    "        return predict_dsd_mundo(D_mat, D_other, train_go_maps, go_other, k, k_other)\n",
    "    return pred\n",
    "    \n",
    "def get_go_maps(nmap, gofile):\n",
    "    df = pd.read_csv(gofile, sep = \"\\t\")\n",
    "    gomaps = df.iloc[:, [0, 3]].groupby(\"swissprot\", as_index = False).aggregate(list).values\n",
    "    go_outs = {}\n",
    "    for prot, gos in gomaps:\n",
    "        if prot in nmap:\n",
    "            go_outs[nmap[prot]] = set(gos)\n",
    "    return go_outs"
   ]
  },
  {
   "cell_type": "code",
   "execution_count": 11,
   "metadata": {},
   "outputs": [
    {
     "data": {
      "text/plain": [
       "(6478, 10792)"
      ]
     },
     "execution_count": 11,
     "metadata": {},
     "output_type": "execute_result"
    }
   ],
   "source": [
    "yeastgomap = get_go_maps(yeastmap, \"../data/go/bakers.output.mapping.gaf\")\n",
    "ratgomap = get_go_maps(ratmap, \"../data/go/rat.output.mapping.gaf\")\n",
    "for i in range(len(yeastmap)):\n",
    "    if i not in yeastgomap:\n",
    "        yeastgomap[i] = {}\n",
    "for i in range(len(ratmap)):\n",
    "    if i not in ratgomap:\n",
    "        ratgomap[i] = {}\n",
    "len(yeastgomap), len(ratgomap)"
   ]
  },
  {
   "cell_type": "code",
   "execution_count": 12,
   "metadata": {},
   "outputs": [],
   "source": [
    "Drat[range(len(Drat)), range(len(Drat))] = np.inf\n",
    "Dyeast[range(len(Dyeast)), range(len(Dyeast))] = np.inf"
   ]
  },
  {
   "cell_type": "markdown",
   "metadata": {},
   "source": [
    "# Without MUNDO output"
   ]
  },
  {
   "cell_type": "code",
   "execution_count": 13,
   "metadata": {},
   "outputs": [
    {
     "data": {
      "text/plain": [
       "([0.05504587155963303,\n",
       "  0.04788732394366197,\n",
       "  0.04105571847507331,\n",
       "  0.03856749311294766,\n",
       "  0.024242424242424242],\n",
       " 0.04135976626674804)"
      ]
     },
     "execution_count": 13,
     "metadata": {},
     "output_type": "execute_result"
    }
   ],
   "source": [
    "compute_metric(dsd_func(Drat, k=10), topk_accs, list(range(len(ratmap))), ratgomap, kfold = 5)"
   ]
  },
  {
   "cell_type": "code",
   "execution_count": 118,
   "metadata": {},
   "outputs": [
    {
     "data": {
      "text/plain": [
       "([0.4046692607003891,\n",
       "  0.3892100192678227,\n",
       "  0.3346228239845261,\n",
       "  0.4182547642928786,\n",
       "  0.34408602150537637],\n",
       " 0.3781685779501986)"
      ]
     },
     "execution_count": 118,
     "metadata": {},
     "output_type": "execute_result"
    }
   ],
   "source": [
    "compute_metric(dsd_func(Dyeast, k=10), topk_accs, list(range(len(yeastmap))), yeastgomap, kfold = 5)"
   ]
  },
  {
   "cell_type": "markdown",
   "metadata": {},
   "source": [
    "## $\\color{red}{\\text{With MUNDO output (MASSIVE IMPROVEMENT)!}}$"
   ]
  },
  {
   "cell_type": "code",
   "execution_count": 251,
   "metadata": {},
   "outputs": [
    {
     "data": {
      "text/plain": [
       "([0.2874617737003058,\n",
       "  0.30985915492957744,\n",
       "  0.2844574780058651,\n",
       "  0.34710743801652894,\n",
       "  0.27575757575757576],\n",
       " 0.3009286840819706)"
      ]
     },
     "execution_count": 251,
     "metadata": {},
     "output_type": "execute_result"
    }
   ],
   "source": [
    "compute_metric(dsd_func_mundo(Drat, rat_yeast_dist, yeastgomap, k_other=20),\n",
    "               topk_accs, list(range(len(ratmap))), ratgomap, kfold = 5)"
   ]
  },
  {
   "cell_type": "code",
   "execution_count": 253,
   "metadata": {},
   "outputs": [
    {
     "data": {
      "text/plain": [
       "([0.1651376146788991,\n",
       "  0.18591549295774648,\n",
       "  0.18475073313782991,\n",
       "  0.22038567493112948,\n",
       "  0.1787878787878788],\n",
       " 0.18699547889869675)"
      ]
     },
     "execution_count": 253,
     "metadata": {},
     "output_type": "execute_result"
    }
   ],
   "source": [
    "compute_metric(dsd_func_mundo(Drat, rat_yeast_dist, yeastgomap, k_other=5),\n",
    "               topk_accs, list(range(len(ratmap))), ratgomap, kfold = 5)"
   ]
  },
  {
   "cell_type": "code",
   "execution_count": null,
   "metadata": {},
   "outputs": [],
   "source": []
  },
  {
   "cell_type": "markdown",
   "metadata": {},
   "source": [
    "# Self Attention Model "
   ]
  },
  {
   "cell_type": "code",
   "execution_count": 14,
   "metadata": {},
   "outputs": [],
   "source": [
    "import torch\n",
    "import torch.nn as nn\n",
    "import torch.nn.functional as F\n",
    "from torch.utils.data import Dataset, DataLoader"
   ]
  },
  {
   "cell_type": "code",
   "execution_count": 126,
   "metadata": {},
   "outputs": [],
   "source": [
    "from sklearn.manifold import Isomap\n",
    "\n",
    "embedding = Isomap(n_components=100, metric = \"precomputed\")\n",
    "Yeastemb = embedding.fit_transform(Dyeast)"
   ]
  },
  {
   "cell_type": "code",
   "execution_count": 128,
   "metadata": {},
   "outputs": [
    {
     "data": {
      "text/plain": [
       "(6478, 100)"
      ]
     },
     "execution_count": 128,
     "metadata": {},
     "output_type": "execute_result"
    }
   ],
   "source": [
    "# np.save(\"yeast-isomap.npy\", Yeastemb)\n",
    "Yeastemb.shape, embedding.reconstruction_error()"
   ]
  },
  {
   "cell_type": "code",
   "execution_count": 209,
   "metadata": {},
   "outputs": [],
   "source": [
    "Drat1 = np.where(Drat > 10, 10, Drat)\n",
    "ratemb = Isomap(n_components=100, metric = \"precomputed\")\n",
    "Ratemb = ratemb.fit_transform(Drat1)"
   ]
  },
  {
   "cell_type": "code",
   "execution_count": 210,
   "metadata": {},
   "outputs": [
    {
     "data": {
      "text/plain": [
       "154.40492926819667"
      ]
     },
     "execution_count": 210,
     "metadata": {},
     "output_type": "execute_result"
    }
   ],
   "source": [
    "ratemb.reconstruction_error()\n",
    "# np.save(\"rat-isomap.npy\", Ratemb)"
   ]
  },
  {
   "cell_type": "code",
   "execution_count": 211,
   "metadata": {},
   "outputs": [],
   "source": [
    "class MHA(nn.Module):\n",
    "    def __init__(self, n_channel, n_head, n_dim, n_out, activation = \"identity\"):\n",
    "        super(MHA, self).__init__()\n",
    "        activations = {\"relu\" : nn.ReLU(), \"sigmoid\" : nn.Sigmoid(), \"tanh\": nn.Tanh()}\n",
    "        self.Wq = nn.Parameter(torch.randn(n_head, n_dim, n_channel, dtype = torch.float32))\n",
    "        self.Wk = nn.Parameter(torch.randn(n_head, n_dim, n_channel, dtype = torch.float32))\n",
    "        self.Wv = nn.Parameter(torch.randn(n_head, n_dim, n_channel, dtype = torch.float32))\n",
    "        self.drop = nn.Dropout(p=0.2)\n",
    "        self.activation = activations[activation] if activation in activations else nn.Identity()\n",
    "        self.n_channel  = nn.Parameter(torch.tensor(n_channel, dtype = torch.float32), requires_grad = False)\n",
    "        self.Wo = nn.Parameter(torch.randn(n_head * n_channel, n_out))\n",
    "        \n",
    "    def forward(self, X):\n",
    "        # X is batch x n_seq = 100 x n_dim = 1\n",
    "        X1 = X.unsqueeze(1)\n",
    "        q  = torch.matmul(X1, self.Wq) # batch x n_head x n_seq x n_channel\n",
    "        k  = torch.matmul(X1, self.Wk)\n",
    "        v  = torch.matmul(X1, self.Wv)\n",
    "        \n",
    "        att = F.softmax(torch.matmul(q, torch.transpose(k, 2, 3)) / torch.sqrt(self.n_channel), dim = -1) \n",
    "        v = torch.matmul(att, v) # batch x n_head x n_seq x n_channel\n",
    "        v = self.drop(v)\n",
    "        vc = torch.concatenate(torch.unbind(v, 1), axis = -1)\n",
    "        return self.activation(torch.matmul(vc, self.Wo))\n",
    "        \n",
    "        \n",
    "class AttentionModel(nn.Module):\n",
    "    def __init__(self):\n",
    "        super(AttentionModel, self).__init__()\n",
    "        self.mha1 = MHA(10, 4, 1, 4, activation = \"sigmoid\")\n",
    "        self.layer = nn.LayerNorm(4)\n",
    "        self.mha2 = MHA(5, 3, 4, 1)\n",
    "    def forward(self, x):\n",
    "        out = self.mha1(x)\n",
    "        out = self.layer(out)\n",
    "        return self.mha2(out)\n",
    "\n",
    "class Data(Dataset):\n",
    "    def __init__(self, matchfile, no_matches, Xa, Xb, nA, nB):\n",
    "        self.no_matches = no_matches\n",
    "        self.matchdf = pd.read_csv(matchfile, sep = \"\\t\")\n",
    "        \n",
    "        if \"scores\" in self.matchdf.columns:\n",
    "            self.matchdf = self.matchdf.sort_values(by = \"score\", ascending = False).reset_index(drop = True)[: no_matches]\n",
    "        else:\n",
    "            self.matchdf = self.matchdf.loc[: no_matches, :]\n",
    "        self.nA = nA\n",
    "        self.nB = nB\n",
    "        self.Xa = Xa\n",
    "        self.Xb = Xb\n",
    "        \n",
    "    def __len__(self):\n",
    "        return self.no_matches\n",
    "    \n",
    "    def __getitem__(self, idx):\n",
    "        pa, pb, sc = self.matchdf.iloc[idx, :].values\n",
    "        ia, ib = self.nA[pa], self.nB[pb]\n",
    "        return torch.tensor(self.Xa[ia], dtype = torch.float32).unsqueeze(-1), torch.tensor(self.Xb[ib], dtype = torch.float32).unsqueeze(-1)\n",
    "        "
   ]
  },
  {
   "cell_type": "code",
   "execution_count": 212,
   "metadata": {},
   "outputs": [
    {
     "data": {
      "text/plain": [
       "(tensor([[-16.6404],\n",
       "         [  2.6942],\n",
       "         [  1.0446],\n",
       "         [  0.4304],\n",
       "         [ -2.4164],\n",
       "         [ -1.6174],\n",
       "         [ -0.7580],\n",
       "         [  1.0401],\n",
       "         [  2.2091],\n",
       "         [  0.1470],\n",
       "         [  0.3698],\n",
       "         [  1.0020],\n",
       "         [  1.1321],\n",
       "         [  0.1992],\n",
       "         [ -0.1354],\n",
       "         [ -1.0950],\n",
       "         [  0.7169],\n",
       "         [  1.5118],\n",
       "         [ -0.7489],\n",
       "         [  0.0618],\n",
       "         [  0.6512],\n",
       "         [  1.1606],\n",
       "         [  0.1960],\n",
       "         [ -0.4991],\n",
       "         [ -0.5769],\n",
       "         [ -0.7934],\n",
       "         [ -0.9746],\n",
       "         [  1.1884],\n",
       "         [  2.0031],\n",
       "         [ -0.7199],\n",
       "         [  1.2313],\n",
       "         [  1.9771],\n",
       "         [ -0.3085],\n",
       "         [  1.7694],\n",
       "         [ -1.9444],\n",
       "         [  0.3215],\n",
       "         [ -1.7412],\n",
       "         [  2.0205],\n",
       "         [ -0.0433],\n",
       "         [  0.1006],\n",
       "         [  1.0464],\n",
       "         [  0.2925],\n",
       "         [ -0.3092],\n",
       "         [  1.8705],\n",
       "         [  0.9875],\n",
       "         [  0.9568],\n",
       "         [  0.0555],\n",
       "         [  1.6715],\n",
       "         [ -0.5602],\n",
       "         [ -0.5327],\n",
       "         [  0.6918],\n",
       "         [ -1.7736],\n",
       "         [  1.1031],\n",
       "         [ -1.2746],\n",
       "         [ -2.2718],\n",
       "         [  0.0685],\n",
       "         [  2.9627],\n",
       "         [ -2.0068],\n",
       "         [ -0.4016],\n",
       "         [  0.1043],\n",
       "         [  2.7504],\n",
       "         [ -1.9738],\n",
       "         [ -0.2271],\n",
       "         [  0.9755],\n",
       "         [  1.2065],\n",
       "         [ -2.2028],\n",
       "         [  0.1839],\n",
       "         [  0.4119],\n",
       "         [  1.9856],\n",
       "         [ -1.7498],\n",
       "         [ -0.7677],\n",
       "         [  0.0900],\n",
       "         [ -2.7167],\n",
       "         [ -1.2151],\n",
       "         [ -1.3786],\n",
       "         [ -1.3353],\n",
       "         [ -0.0298],\n",
       "         [  2.0015],\n",
       "         [  1.3766],\n",
       "         [  2.9090],\n",
       "         [  2.6947],\n",
       "         [ -0.6641],\n",
       "         [ -0.0329],\n",
       "         [  0.2946],\n",
       "         [  0.7081],\n",
       "         [  0.1265],\n",
       "         [ -0.9857],\n",
       "         [ -1.3816],\n",
       "         [  0.1173],\n",
       "         [ -1.6941],\n",
       "         [ -0.7310],\n",
       "         [  1.3537],\n",
       "         [ -2.2382],\n",
       "         [ -0.1065],\n",
       "         [ -1.1650],\n",
       "         [ -0.1414],\n",
       "         [  0.1228],\n",
       "         [  0.3502],\n",
       "         [ -1.2577],\n",
       "         [  0.7870]]),\n",
       " tensor([[ 3.0533e-01],\n",
       "         [-7.8236e-01],\n",
       "         [-2.2534e-01],\n",
       "         [-2.4106e+00],\n",
       "         [ 3.7687e+00],\n",
       "         [ 4.3694e-02],\n",
       "         [ 8.8983e-01],\n",
       "         [ 6.0668e-02],\n",
       "         [ 1.3588e-01],\n",
       "         [ 6.6753e-02],\n",
       "         [-4.5575e-02],\n",
       "         [ 3.2257e-02],\n",
       "         [-3.6659e-02],\n",
       "         [-1.1698e-01],\n",
       "         [ 2.2835e-03],\n",
       "         [ 2.7557e-02],\n",
       "         [-1.9115e-02],\n",
       "         [ 1.8300e-02],\n",
       "         [ 4.1504e-03],\n",
       "         [ 2.1843e-02],\n",
       "         [ 2.4464e-05],\n",
       "         [ 1.3247e-02],\n",
       "         [-3.2252e-03],\n",
       "         [-8.0163e-03],\n",
       "         [-7.9350e-03],\n",
       "         [-6.1479e-03],\n",
       "         [-1.9533e-02],\n",
       "         [ 3.8760e-04],\n",
       "         [-9.8829e-03],\n",
       "         [ 3.2661e-03],\n",
       "         [-4.2880e-03],\n",
       "         [-6.9418e-04],\n",
       "         [ 8.0781e-03],\n",
       "         [-6.3686e-03],\n",
       "         [ 1.6361e-04],\n",
       "         [-4.8745e-03],\n",
       "         [-1.0206e-04],\n",
       "         [-4.9101e-03],\n",
       "         [ 1.1922e-02],\n",
       "         [ 5.9651e-04],\n",
       "         [ 1.8409e-03],\n",
       "         [ 9.6040e-04],\n",
       "         [ 6.9565e-04],\n",
       "         [-1.2900e-04],\n",
       "         [-5.0165e-04],\n",
       "         [ 1.0288e-03],\n",
       "         [ 1.9132e-04],\n",
       "         [-1.1345e-04],\n",
       "         [-3.5247e-04],\n",
       "         [-5.5222e-04],\n",
       "         [-6.9846e-04],\n",
       "         [ 1.5389e-03],\n",
       "         [ 7.3037e-04],\n",
       "         [ 2.2869e-04],\n",
       "         [ 1.2246e-03],\n",
       "         [-4.0325e-05],\n",
       "         [ 3.5698e-04],\n",
       "         [ 8.1060e-04],\n",
       "         [-3.0802e-03],\n",
       "         [ 7.2303e-04],\n",
       "         [ 1.6852e-03],\n",
       "         [ 1.9713e-04],\n",
       "         [-8.9476e-04],\n",
       "         [-2.3905e-03],\n",
       "         [-9.3816e-03],\n",
       "         [ 1.0869e-03],\n",
       "         [ 6.7310e-04],\n",
       "         [ 6.4275e-04],\n",
       "         [ 7.5735e-04],\n",
       "         [-5.6504e-04],\n",
       "         [-1.2051e-04],\n",
       "         [-3.9407e-04],\n",
       "         [ 1.2332e-04],\n",
       "         [-2.3281e-04],\n",
       "         [ 1.2752e-04],\n",
       "         [-1.3961e-05],\n",
       "         [-9.2377e-07],\n",
       "         [ 2.5503e-05],\n",
       "         [ 2.6710e-05],\n",
       "         [ 3.8170e-05],\n",
       "         [ 9.4102e-05],\n",
       "         [ 2.1777e-04],\n",
       "         [ 2.0607e-04],\n",
       "         [ 5.2805e-05],\n",
       "         [ 5.4981e-05],\n",
       "         [ 7.2814e-06],\n",
       "         [-4.5190e-05],\n",
       "         [ 3.4749e-05],\n",
       "         [ 8.5233e-06],\n",
       "         [-2.3156e-04],\n",
       "         [-3.3881e-04],\n",
       "         [ 3.2095e-04],\n",
       "         [ 2.7175e-04],\n",
       "         [ 2.0683e-04],\n",
       "         [ 1.6092e-05],\n",
       "         [ 1.3861e-04],\n",
       "         [ 1.8310e-04],\n",
       "         [ 6.6800e-05],\n",
       "         [-6.2087e-05],\n",
       "         [-3.0051e-05]]))"
      ]
     },
     "execution_count": 212,
     "metadata": {},
     "output_type": "execute_result"
    }
   ],
   "source": [
    "data = Data(\"../data/intact_output/rat-bakers.tsv\", 500, Ratemb, Yeastemb, ratmap, yeastmap)\n",
    "data[499]"
   ]
  },
  {
   "cell_type": "code",
   "execution_count": 213,
   "metadata": {},
   "outputs": [],
   "source": [
    "train, test = torch.utils.data.random_split(data, [450, 50])\n",
    "trainloader = DataLoader(train, shuffle = True, batch_size = 10)\n",
    "testloader = DataLoader(test, shuffle = True, batch_size = 10)"
   ]
  },
  {
   "cell_type": "code",
   "execution_count": 220,
   "metadata": {},
   "outputs": [
    {
     "data": {
      "text/plain": [
       "tensor(9.9219)"
      ]
     },
     "execution_count": 220,
     "metadata": {},
     "output_type": "execute_result"
    }
   ],
   "source": [
    "loss_fn(data[0][0],data[0][1])"
   ]
  },
  {
   "cell_type": "code",
   "execution_count": 223,
   "metadata": {},
   "outputs": [
    {
     "name": "stdout",
     "output_type": "stream",
     "text": [
      "Epoch 1: Loss : 20.943775516086156\n",
      "Epoch 11: Loss : 10.736680947409736\n",
      "Epoch 21: Loss : 10.340429862340292\n",
      "Epoch 31: Loss : 10.248219712575276\n",
      "Epoch 41: Loss : 10.159551117155287\n",
      "Epoch 51: Loss : 10.159130859375\n",
      "Epoch 61: Loss : 10.150969648361206\n",
      "Epoch 71: Loss : 10.127570856942071\n",
      "Epoch 81: Loss : 10.128482447730171\n",
      "Epoch 91: Loss : 10.121047406726413\n"
     ]
    }
   ],
   "source": [
    "loss_fn = nn.MSELoss()\n",
    "model = AttentionModel()\n",
    "model.train()\n",
    "optim = torch.optim.Adam(model.parameters(), lr = 0.001)\n",
    "\n",
    "ep = 100\n",
    "losses = []\n",
    "for e in range(ep):\n",
    "    loss = 0\n",
    "    for i, data in enumerate(trainloader):\n",
    "        y, x = data # y = rat, x = yeast\n",
    "        optim.zero_grad()\n",
    "        yhat = model(x)\n",
    "        closs = loss_fn(y, yhat)\n",
    "        closs.backward()\n",
    "        optim.step()\n",
    "        loss += closs.item()\n",
    "    loss = loss / (i+1)\n",
    "    if e % 10 == 0:\n",
    "        print(f\"Epoch {e+1}: Loss : {loss}\")"
   ]
  },
  {
   "cell_type": "code",
   "execution_count": 224,
   "metadata": {},
   "outputs": [
    {
     "name": "stdout",
     "output_type": "stream",
     "text": [
      "Validation loss: 7.101837062835694\n"
     ]
    }
   ],
   "source": [
    "testloss = 0\n",
    "model.eval()\n",
    "for i, data in enumerate(testloader):\n",
    "    y, x = data # y = rat, x = yeast\n",
    "    yhat = model(x)\n",
    "    loss = loss_fn(y, yhat)\n",
    "    testloss += loss.item()\n",
    "testloss /= (i+1)\n",
    "print(f\"Validation loss: {testloss}\")"
   ]
  },
  {
   "cell_type": "code",
   "execution_count": 226,
   "metadata": {},
   "outputs": [],
   "source": [
    "allYeastEmb = torch.tensor(Yeastemb, dtype = torch.float32).unsqueeze(-1)\n",
    "with torch.no_grad():\n",
    "    Yeast_RatT = model(allYeastEmb)\n"
   ]
  },
  {
   "cell_type": "code",
   "execution_count": 230,
   "metadata": {},
   "outputs": [],
   "source": [
    "yeast_rat = Yeast_RatT.squeeze().numpy()\n",
    "# np.save(\"yeast->rat_emb.npy\", yeast_rat)"
   ]
  },
  {
   "cell_type": "code",
   "execution_count": 231,
   "metadata": {},
   "outputs": [
    {
     "data": {
      "text/plain": [
       "(6478, 100)"
      ]
     },
     "execution_count": 231,
     "metadata": {},
     "output_type": "execute_result"
    }
   ],
   "source": [
    "yeast_rat.shape"
   ]
  },
  {
   "cell_type": "code",
   "execution_count": 234,
   "metadata": {},
   "outputs": [],
   "source": [
    "rat_yeast_dist = cdist(Ratemb, yeast_rat) # If rat => m yeast has size n  => m x n"
   ]
  }
 ],
 "metadata": {
  "kernelspec": {
   "display_name": "mundo",
   "language": "python",
   "name": "mundo"
  },
  "language_info": {
   "codemirror_mode": {
    "name": "ipython",
    "version": 3
   },
   "file_extension": ".py",
   "mimetype": "text/x-python",
   "name": "python",
   "nbconvert_exporter": "python",
   "pygments_lexer": "ipython3",
   "version": "3.7.6"
  }
 },
 "nbformat": 4,
 "nbformat_minor": 2
}
