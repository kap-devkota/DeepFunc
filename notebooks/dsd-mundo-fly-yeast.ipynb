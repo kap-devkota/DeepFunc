{
 "cells": [
  {
   "cell_type": "code",
   "execution_count": 2,
   "metadata": {},
   "outputs": [],
   "source": [
    "import glidetools.algorithm.dsd as dsd\n",
    "import pandas as pd\n",
    "import numpy as np\n",
    "import sys\n",
    "import json\n",
    "from scipy.spatial.distance import cdist\n",
    "sys.path.append(\"../src/\")\n",
    "%load_ext autoreload\n",
    "%autoreload 2"
   ]
  },
  {
   "cell_type": "markdown",
   "metadata": {},
   "source": [
    "# Compute DSD matrix of rat and yeast"
   ]
  },
  {
   "cell_type": "code",
   "execution_count": 3,
   "metadata": {},
   "outputs": [
    {
     "data": {
      "text/html": [
       "<div>\n",
       "<style scoped>\n",
       "    .dataframe tbody tr th:only-of-type {\n",
       "        vertical-align: middle;\n",
       "    }\n",
       "\n",
       "    .dataframe tbody tr th {\n",
       "        vertical-align: top;\n",
       "    }\n",
       "\n",
       "    .dataframe thead th {\n",
       "        text-align: right;\n",
       "    }\n",
       "</style>\n",
       "<table border=\"1\" class=\"dataframe\">\n",
       "  <thead>\n",
       "    <tr style=\"text-align: right;\">\n",
       "      <th></th>\n",
       "      <th>0</th>\n",
       "      <th>1</th>\n",
       "    </tr>\n",
       "  </thead>\n",
       "  <tbody>\n",
       "    <tr>\n",
       "      <th>0</th>\n",
       "      <td>P38989</td>\n",
       "      <td>P39078</td>\n",
       "    </tr>\n",
       "    <tr>\n",
       "      <th>1</th>\n",
       "      <td>P39966</td>\n",
       "      <td>P25294</td>\n",
       "    </tr>\n",
       "    <tr>\n",
       "      <th>2</th>\n",
       "      <td>P41056</td>\n",
       "      <td>P10591</td>\n",
       "    </tr>\n",
       "    <tr>\n",
       "      <th>3</th>\n",
       "      <td>Q03220</td>\n",
       "      <td>P23292</td>\n",
       "    </tr>\n",
       "    <tr>\n",
       "      <th>4</th>\n",
       "      <td>Q12373</td>\n",
       "      <td>Q05024</td>\n",
       "    </tr>\n",
       "    <tr>\n",
       "      <th>...</th>\n",
       "      <td>...</td>\n",
       "      <td>...</td>\n",
       "    </tr>\n",
       "    <tr>\n",
       "      <th>80395</th>\n",
       "      <td>P32340</td>\n",
       "      <td>P38217</td>\n",
       "    </tr>\n",
       "    <tr>\n",
       "      <th>80396</th>\n",
       "      <td>Q06677</td>\n",
       "      <td>P53741</td>\n",
       "    </tr>\n",
       "    <tr>\n",
       "      <th>80397</th>\n",
       "      <td>P38786</td>\n",
       "      <td>P53218</td>\n",
       "    </tr>\n",
       "    <tr>\n",
       "      <th>80398</th>\n",
       "      <td>P04786</td>\n",
       "      <td>Q05024</td>\n",
       "    </tr>\n",
       "    <tr>\n",
       "      <th>80399</th>\n",
       "      <td>P39744</td>\n",
       "      <td>Q06205</td>\n",
       "    </tr>\n",
       "  </tbody>\n",
       "</table>\n",
       "<p>80400 rows × 2 columns</p>\n",
       "</div>"
      ],
      "text/plain": [
       "            0       1\n",
       "0      P38989  P39078\n",
       "1      P39966  P25294\n",
       "2      P41056  P10591\n",
       "3      Q03220  P23292\n",
       "4      Q12373  Q05024\n",
       "...       ...     ...\n",
       "80395  P32340  P38217\n",
       "80396  Q06677  P53741\n",
       "80397  P38786  P53218\n",
       "80398  P04786  Q05024\n",
       "80399  P39744  Q06205\n",
       "\n",
       "[80400 rows x 2 columns]"
      ]
     },
     "execution_count": 3,
     "metadata": {},
     "output_type": "execute_result"
    }
   ],
   "source": [
    "flydf = pd.read_csv(\"../data/intact_output/fly.s.tsv\", sep = \"\\t\", header = None)\n",
    "yeastdf = pd.read_csv(\"../data/intact_output/bakers_add.s.tsv\", sep = \"\\t\", header = None)\n",
    "yeastdf"
   ]
  },
  {
   "cell_type": "code",
   "execution_count": 4,
   "metadata": {},
   "outputs": [
    {
     "name": "stdout",
     "output_type": "stream",
     "text": [
      "       fly  bakers     score\n",
      "0     3943    2679  0.033223\n",
      "1     3943    2772  0.033033\n",
      "2     3943    6213  0.044461\n",
      "3     3462    1788  0.041991\n",
      "4     7511    2616  0.032133\n",
      "...    ...     ...       ...\n",
      "8353  9165    4224  0.031137\n",
      "8354  9210    1112  0.031469\n",
      "8355  9210    2018  0.032654\n",
      "8356  9210    4293  0.035592\n",
      "8357  9210    1345  0.033863\n",
      "\n",
      "[8358 rows x 3 columns]\n"
     ]
    }
   ],
   "source": [
    "from io_utils import compute_adjacency, compute_pairs\n",
    "Ay, yeastmap = compute_adjacency(yeastdf)\n",
    "Af, flymap = compute_adjacency(flydf)\n",
    "dfb = pd.read_csv(\"../data/intact_output/fly-bakers.tsv\", sep = \"\\t\")\n",
    "Efb = compute_pairs(dfb, flymap, yeastmap, \"fly\", \"bakers\")\n",
    "\n",
    "# (df, nmapA, nmapB, orgA, orgB)\n",
    "import json\n",
    "with open(\"yeast.json\", \"w\") as yj, open(\"fly.json\", \"w\") as fj:\n",
    "    json.dump(yeastmap, yj)\n",
    "    json.dump(flymap, fj)"
   ]
  },
  {
   "cell_type": "code",
   "execution_count": 5,
   "metadata": {},
   "outputs": [],
   "source": [
    "ryeastmap = {val: key for key, val in yeastmap.items()}\n",
    "rflymap = {val: key for key, val in flymap.items()}"
   ]
  },
  {
   "cell_type": "code",
   "execution_count": 6,
   "metadata": {},
   "outputs": [],
   "source": [
    "def compute_isorank(A1, A2, E, alpha, maxiter = 20, get_R0 = False, get_R1 = False):\n",
    "    \"\"\"\n",
    "    Compute the isorank using the eigendecomposition\n",
    "    \"\"\"\n",
    "    d1 = np.sum(A1, axis = 1).reshape(-1, 1)\n",
    "    d2 = np.sum(A2, axis = 1).reshape(-1, 1)\n",
    "    \n",
    "    P1 = A1 / d1.T\n",
    "    P2 = A2 / d2.T\n",
    "    E = E / np.sum(E)\n",
    "    \n",
    "    d = d1 @ d2.T \n",
    "    d = d / (np.sum(d1) * np.sum(d2))\n",
    "    \n",
    "    R = (1-alpha) * d + alpha * E\n",
    "    \n",
    "    if maxiter <= 0:\n",
    "        return R\n",
    "    \n",
    "    if get_R0:\n",
    "        R0 = R.copy()\n",
    "    \n",
    "    # Reshape R and E\n",
    "    R = R.T\n",
    "    E = E.T\n",
    "    \n",
    "    for i in range(maxiter):\n",
    "        R = (1-alpha) * (P2 @ R @ P1.T) + alpha * E\n",
    "        if get_R1 and i == 0:\n",
    "            R1 = R.T.copy()\n",
    "            \n",
    "    payload = [R.T]\n",
    "    if get_R1:\n",
    "        payload = [R1] + payload\n",
    "    if get_R0:\n",
    "        payload = [R0] + payload\n",
    "    return payload\n",
    "\n",
    "def compute_greedy_assignment(R1, n_align):\n",
    "    \"\"\"\n",
    "    Compute greedy assignment\n",
    "    \"\"\"\n",
    "    aligned = []\n",
    "    R = R1.copy()\n",
    "    \n",
    "    n_align = min(n_align, *R.shape)\n",
    "    \n",
    "    itr = 1\n",
    "    while(len(aligned) < n_align):\n",
    "        itr   += 1\n",
    "        maxcols = np.argmax(R, axis = 1) # best y ids\n",
    "        maxid = np.argmax(np.max(R, axis = 1)) # best x id\n",
    "        maxcol = maxcols[maxid]\n",
    "        aligned.append((maxid, maxcol))\n",
    "        R[:, maxcol] = -1\n",
    "        R[maxid, :]  = -1\n",
    "    return aligned\n",
    "\n",
    "\n",
    "R0 = compute_isorank(Af, Ay, Efb, 0.6, -1, get_R0 = False, get_R1 = False)\n",
    "pairs = compute_greedy_assignment(R0, 1000)"
   ]
  },
  {
   "cell_type": "code",
   "execution_count": 7,
   "metadata": {},
   "outputs": [],
   "source": [
    "diso_fly_yeast = pd.DataFrame(pairs, columns = [\"fly\", \"bakers\"])\n",
    "diso_fly_yeast.iloc[:, 0] = diso_fly_yeast.iloc[:, 0].apply(lambda x : rflymap[x])\n",
    "diso_fly_yeast.iloc[:, 1] = diso_fly_yeast.iloc[:, 1].apply(lambda x : ryeastmap[x])\n",
    "diso_fly_yeast.to_csv(\"isorank_fly_bakersPlus.tsv\", sep = \"\\t\", index = None)"
   ]
  },
  {
   "cell_type": "markdown",
   "metadata": {},
   "source": [
    "# Load JSON from file"
   ]
  },
  {
   "cell_type": "code",
   "execution_count": 68,
   "metadata": {},
   "outputs": [
    {
     "data": {
      "text/plain": [
       "[('P38207', 0),\n",
       " ('Q01919', 1),\n",
       " ('P42840', 2),\n",
       " ('P36069', 3),\n",
       " ('P35187', 4),\n",
       " ('P53273', 5),\n",
       " ('Q07410', 6),\n",
       " ('P36009', 7),\n",
       " ('P11076', 8),\n",
       " ('P22135', 9)]"
      ]
     },
     "execution_count": 68,
     "metadata": {},
     "output_type": "execute_result"
    }
   ],
   "source": [
    "list(yeastmap.items())[:10]"
   ]
  },
  {
   "cell_type": "code",
   "execution_count": 10,
   "metadata": {},
   "outputs": [
    {
     "data": {
      "text/plain": [
       "[('P38207', 0),\n",
       " ('Q01919', 1),\n",
       " ('P42840', 2),\n",
       " ('P36069', 3),\n",
       " ('P35187', 4),\n",
       " ('P53273', 5),\n",
       " ('Q07410', 6),\n",
       " ('P36009', 7),\n",
       " ('P11076', 8),\n",
       " ('P22135', 9)]"
      ]
     },
     "execution_count": 10,
     "metadata": {},
     "output_type": "execute_result"
    }
   ],
   "source": [
    "with open(\"yeast.json\", \"r\") as yj, open(\"rat.json\", \"r\") as rj:\n",
    "    yeastmap = json.load(yj)\n",
    "    ratmap = json.load(rj)\n",
    "list(yeastmap.items())[:10]"
   ]
  },
  {
   "cell_type": "markdown",
   "metadata": {},
   "source": [
    "# Compute DSD matrix"
   ]
  },
  {
   "cell_type": "code",
   "execution_count": 34,
   "metadata": {},
   "outputs": [],
   "source": [
    "ADyeast = dsd.compute_dsd_embedding(Ay, is_normalized=False)"
   ]
  },
  {
   "cell_type": "code",
   "execution_count": 8,
   "metadata": {},
   "outputs": [],
   "source": [
    "# np.save(\"yeast-dsd-emb.npy\", ADyeast)\n",
    "ADfly = dsd.compute_dsd_embedding(Af, is_normalized = False)"
   ]
  },
  {
   "cell_type": "code",
   "execution_count": 10,
   "metadata": {},
   "outputs": [],
   "source": [
    "#np.save(\"fly-dsd-emb.npy\", ADfly)"
   ]
  },
  {
   "cell_type": "markdown",
   "metadata": {},
   "source": [
    "# Load the DSD matrix"
   ]
  },
  {
   "cell_type": "code",
   "execution_count": 12,
   "metadata": {},
   "outputs": [],
   "source": [
    "ADfly = np.load(\"fly-dsd-emb.npy\")\n",
    "ADyeast = np.load(\"yeast-dsd-emb.npy\")"
   ]
  },
  {
   "cell_type": "code",
   "execution_count": 13,
   "metadata": {},
   "outputs": [],
   "source": [
    "from scipy.spatial.distance import pdist, squareform\n",
    "\n",
    "Dfly = squareform(pdist(ADfly))\n",
    "Dyeast = squareform(pdist(ADyeast))"
   ]
  },
  {
   "cell_type": "code",
   "execution_count": 6,
   "metadata": {},
   "outputs": [],
   "source": [
    "#np.save(\"fly-dsd-dist.npy\", Dfly)\n",
    "#np.save(\"yeast-dsd-dist.npy\", Dyeast)\n",
    "Dfly = np.load(\"fly-dsd-dist.npy\")\n",
    "Dyeast = np.load(\"yeast-dsd-dist.npy\")"
   ]
  },
  {
   "cell_type": "markdown",
   "metadata": {},
   "source": [
    "# Load the GO files for the Yeast network"
   ]
  },
  {
   "cell_type": "code",
   "execution_count": 7,
   "metadata": {},
   "outputs": [
    {
     "data": {
      "text/html": [
       "<div>\n",
       "<style scoped>\n",
       "    .dataframe tbody tr th:only-of-type {\n",
       "        vertical-align: middle;\n",
       "    }\n",
       "\n",
       "    .dataframe tbody tr th {\n",
       "        vertical-align: top;\n",
       "    }\n",
       "\n",
       "    .dataframe thead th {\n",
       "        text-align: right;\n",
       "    }\n",
       "</style>\n",
       "<table border=\"1\" class=\"dataframe\">\n",
       "  <thead>\n",
       "    <tr style=\"text-align: right;\">\n",
       "      <th></th>\n",
       "      <th>GO</th>\n",
       "      <th>type</th>\n",
       "      <th>sgd</th>\n",
       "      <th>swissprot</th>\n",
       "    </tr>\n",
       "  </thead>\n",
       "  <tbody>\n",
       "    <tr>\n",
       "      <th>0</th>\n",
       "      <td>GO:0000006</td>\n",
       "      <td>molecular_function</td>\n",
       "      <td>S000003224</td>\n",
       "      <td>P32804</td>\n",
       "    </tr>\n",
       "    <tr>\n",
       "      <th>1</th>\n",
       "      <td>GO:0000006</td>\n",
       "      <td>molecular_function</td>\n",
       "      <td>S000003224</td>\n",
       "      <td>P32804</td>\n",
       "    </tr>\n",
       "    <tr>\n",
       "      <th>2</th>\n",
       "      <td>GO:0000007</td>\n",
       "      <td>molecular_function</td>\n",
       "      <td>S000004120</td>\n",
       "      <td>Q12436</td>\n",
       "    </tr>\n",
       "    <tr>\n",
       "      <th>3</th>\n",
       "      <td>GO:0000007</td>\n",
       "      <td>molecular_function</td>\n",
       "      <td>S000004120</td>\n",
       "      <td>Q12436</td>\n",
       "    </tr>\n",
       "    <tr>\n",
       "      <th>4</th>\n",
       "      <td>GO:0000009</td>\n",
       "      <td>molecular_function</td>\n",
       "      <td>S000000208</td>\n",
       "      <td>P38211</td>\n",
       "    </tr>\n",
       "    <tr>\n",
       "      <th>...</th>\n",
       "      <td>...</td>\n",
       "      <td>...</td>\n",
       "      <td>...</td>\n",
       "      <td>...</td>\n",
       "    </tr>\n",
       "    <tr>\n",
       "      <th>61177</th>\n",
       "      <td>GO:1990468</td>\n",
       "      <td>cellular_component</td>\n",
       "      <td>S000004447</td>\n",
       "      <td>Q06188</td>\n",
       "    </tr>\n",
       "    <tr>\n",
       "      <th>61178</th>\n",
       "      <td>GO:1990468</td>\n",
       "      <td>cellular_component</td>\n",
       "      <td>S000006235</td>\n",
       "      <td>Q12311</td>\n",
       "    </tr>\n",
       "    <tr>\n",
       "      <th>61179</th>\n",
       "      <td>GO:1990537</td>\n",
       "      <td>cellular_component</td>\n",
       "      <td>S000003345</td>\n",
       "      <td>P53267</td>\n",
       "    </tr>\n",
       "    <tr>\n",
       "      <th>61180</th>\n",
       "      <td>GO:1990860</td>\n",
       "      <td>cellular_component</td>\n",
       "      <td>S000005952</td>\n",
       "      <td>P17157</td>\n",
       "    </tr>\n",
       "    <tr>\n",
       "      <th>61181</th>\n",
       "      <td>GO:1990860</td>\n",
       "      <td>cellular_component</td>\n",
       "      <td>S000005361</td>\n",
       "      <td>P20052</td>\n",
       "    </tr>\n",
       "  </tbody>\n",
       "</table>\n",
       "<p>61182 rows × 4 columns</p>\n",
       "</div>"
      ],
      "text/plain": [
       "               GO                type         sgd swissprot\n",
       "0      GO:0000006  molecular_function  S000003224    P32804\n",
       "1      GO:0000006  molecular_function  S000003224    P32804\n",
       "2      GO:0000007  molecular_function  S000004120    Q12436\n",
       "3      GO:0000007  molecular_function  S000004120    Q12436\n",
       "4      GO:0000009  molecular_function  S000000208    P38211\n",
       "...           ...                 ...         ...       ...\n",
       "61177  GO:1990468  cellular_component  S000004447    Q06188\n",
       "61178  GO:1990468  cellular_component  S000006235    Q12311\n",
       "61179  GO:1990537  cellular_component  S000003345    P53267\n",
       "61180  GO:1990860  cellular_component  S000005952    P17157\n",
       "61181  GO:1990860  cellular_component  S000005361    P20052\n",
       "\n",
       "[61182 rows x 4 columns]"
      ]
     },
     "execution_count": 7,
     "metadata": {},
     "output_type": "execute_result"
    }
   ],
   "source": [
    "ynet = pd.read_csv(\"../data/go/bakers.output.mapping.gaf\", sep = \"\\t\")\n",
    "ynet"
   ]
  },
  {
   "cell_type": "code",
   "execution_count": 8,
   "metadata": {},
   "outputs": [
    {
     "data": {
      "text/html": [
       "<div>\n",
       "<style scoped>\n",
       "    .dataframe tbody tr th:only-of-type {\n",
       "        vertical-align: middle;\n",
       "    }\n",
       "\n",
       "    .dataframe tbody tr th {\n",
       "        vertical-align: top;\n",
       "    }\n",
       "\n",
       "    .dataframe thead th {\n",
       "        text-align: right;\n",
       "    }\n",
       "</style>\n",
       "<table border=\"1\" class=\"dataframe\">\n",
       "  <thead>\n",
       "    <tr style=\"text-align: right;\">\n",
       "      <th></th>\n",
       "      <th>GO</th>\n",
       "      <th>type</th>\n",
       "      <th>fbid</th>\n",
       "      <th>swissprot</th>\n",
       "    </tr>\n",
       "  </thead>\n",
       "  <tbody>\n",
       "    <tr>\n",
       "      <th>0</th>\n",
       "      <td>GO:0000009</td>\n",
       "      <td>molecular_function</td>\n",
       "      <td>FBgn0037743</td>\n",
       "      <td>Q9VH78</td>\n",
       "    </tr>\n",
       "    <tr>\n",
       "      <th>1</th>\n",
       "      <td>GO:0000009</td>\n",
       "      <td>molecular_function</td>\n",
       "      <td>FBgn0037743</td>\n",
       "      <td>Q9VH78</td>\n",
       "    </tr>\n",
       "    <tr>\n",
       "      <th>2</th>\n",
       "      <td>GO:0000009</td>\n",
       "      <td>molecular_function</td>\n",
       "      <td>FBgn0265174</td>\n",
       "      <td>Q9V7W1</td>\n",
       "    </tr>\n",
       "    <tr>\n",
       "      <th>3</th>\n",
       "      <td>GO:0000010</td>\n",
       "      <td>molecular_function</td>\n",
       "      <td>FBgn0037044</td>\n",
       "      <td>Q9VP87</td>\n",
       "    </tr>\n",
       "    <tr>\n",
       "      <th>4</th>\n",
       "      <td>GO:0000010</td>\n",
       "      <td>molecular_function</td>\n",
       "      <td>FBgn0051005</td>\n",
       "      <td>Q8SY08</td>\n",
       "    </tr>\n",
       "    <tr>\n",
       "      <th>...</th>\n",
       "      <td>...</td>\n",
       "      <td>...</td>\n",
       "      <td>...</td>\n",
       "      <td>...</td>\n",
       "    </tr>\n",
       "    <tr>\n",
       "      <th>161232</th>\n",
       "      <td>GO:1990498</td>\n",
       "      <td>cellular_component</td>\n",
       "      <td>FBgn0002924</td>\n",
       "      <td>Q5UHE2</td>\n",
       "    </tr>\n",
       "    <tr>\n",
       "      <th>161233</th>\n",
       "      <td>GO:1990635</td>\n",
       "      <td>cellular_component</td>\n",
       "      <td>FBgn0032593</td>\n",
       "      <td>Q9VJJ7</td>\n",
       "    </tr>\n",
       "    <tr>\n",
       "      <th>161234</th>\n",
       "      <td>GO:1990635</td>\n",
       "      <td>cellular_component</td>\n",
       "      <td>FBgn0032593</td>\n",
       "      <td>B7YZW4</td>\n",
       "    </tr>\n",
       "    <tr>\n",
       "      <th>161235</th>\n",
       "      <td>GO:1990635</td>\n",
       "      <td>cellular_component</td>\n",
       "      <td>FBgn0086656</td>\n",
       "      <td>Q8T0Q4</td>\n",
       "    </tr>\n",
       "    <tr>\n",
       "      <th>161236</th>\n",
       "      <td>GO:1990761</td>\n",
       "      <td>cellular_component</td>\n",
       "      <td>FBgn0243511</td>\n",
       "      <td>Q9VDQ7</td>\n",
       "    </tr>\n",
       "  </tbody>\n",
       "</table>\n",
       "<p>161237 rows × 4 columns</p>\n",
       "</div>"
      ],
      "text/plain": [
       "                GO                type         fbid swissprot\n",
       "0       GO:0000009  molecular_function  FBgn0037743    Q9VH78\n",
       "1       GO:0000009  molecular_function  FBgn0037743    Q9VH78\n",
       "2       GO:0000009  molecular_function  FBgn0265174    Q9V7W1\n",
       "3       GO:0000010  molecular_function  FBgn0037044    Q9VP87\n",
       "4       GO:0000010  molecular_function  FBgn0051005    Q8SY08\n",
       "...            ...                 ...          ...       ...\n",
       "161232  GO:1990498  cellular_component  FBgn0002924    Q5UHE2\n",
       "161233  GO:1990635  cellular_component  FBgn0032593    Q9VJJ7\n",
       "161234  GO:1990635  cellular_component  FBgn0032593    B7YZW4\n",
       "161235  GO:1990635  cellular_component  FBgn0086656    Q8T0Q4\n",
       "161236  GO:1990761  cellular_component  FBgn0243511    Q9VDQ7\n",
       "\n",
       "[161237 rows x 4 columns]"
      ]
     },
     "execution_count": 8,
     "metadata": {},
     "output_type": "execute_result"
    }
   ],
   "source": [
    "fnet = pd.read_csv(\"../data/go/fly.output.mapping.gaf\", sep = \"\\t\")\n",
    "fnet"
   ]
  },
  {
   "cell_type": "code",
   "execution_count": 9,
   "metadata": {},
   "outputs": [
    {
     "data": {
      "text/plain": [
       "array([['A0A021WW32',\n",
       "        list(['GO:0010628', 'GO:0016322', 'GO:0070193', 'GO:1990414', 'GO:0005634'])],\n",
       "       ['A0A021WW37',\n",
       "        list(['GO:0005262', 'GO:0008273', 'GO:0006874', 'GO:0070588'])],\n",
       "       ['A0A021WWX0',\n",
       "        list(['GO:0005262', 'GO:0008273', 'GO:0006874', 'GO:0070588'])],\n",
       "       ...,\n",
       "       ['X2JLM6',\n",
       "        list(['GO:0004843', 'GO:1990380', 'GO:0002785', 'GO:0006511', 'GO:0016579', 'GO:0016579', 'GO:0045805', 'GO:0051926', 'GO:0061060', 'GO:0071108', 'GO:1901800'])],\n",
       "       ['X2JLN4',\n",
       "        list(['GO:0000827', 'GO:0000827', 'GO:0000828', 'GO:0000829', 'GO:0000832', 'GO:0000832', 'GO:0005524', 'GO:0033857', 'GO:0033857', 'GO:0033857', 'GO:0032958'])],\n",
       "       ['X4YX01',\n",
       "        list(['GO:0000132', 'GO:0045938', 'GO:0045938', 'GO:0061172', 'GO:0005819'])]],\n",
       "      dtype=object)"
      ]
     },
     "execution_count": 9,
     "metadata": {},
     "output_type": "execute_result"
    }
   ],
   "source": [
    "fnet.iloc[:, [0, 3]].groupby(\"swissprot\", as_index = False).aggregate(list).values"
   ]
  },
  {
   "cell_type": "code",
   "execution_count": 10,
   "metadata": {},
   "outputs": [],
   "source": [
    "def topk_acc(golists = {}, go = None, k = 1):\n",
    "    if len(golists) == 0:\n",
    "        return None\n",
    "    elif go == None:\n",
    "        return 0\n",
    "    else:\n",
    "        go_k = set(go[: min(k, len(go))])\n",
    "        return len(go_k.intersection(golists)) / k\n",
    "    \n",
    "def topk_accs(prots, pred_go_map, true_go_map, k = 1):\n",
    "    accs = [topk_acc(true_go_map[p], pred_go_map[p], k) for p in prots]\n",
    "    accs = list(filter(lambda x : x is not None, accs))\n",
    "    return np.average(accs)\n",
    "\n",
    "def compute_metric(prediction_func, scoring_func, allprots, true_go_map, kfold = 5):\n",
    "    np.random.seed(137)\n",
    "    permprots = np.random.permutation(allprots)\n",
    "    blocksize = int(len(allprots) / kfold)\n",
    "    scores = []\n",
    "    for i in range(kfold):\n",
    "        predictprots = permprots[i * blocksize: (i+1) * blocksize]\n",
    "        trainprots = np.concatenate([permprots[: i * blocksize], permprots[(i+1) * blocksize : ]])\n",
    "        go_map_training = {tprots: true_go_map[tprots] for tprots in trainprots}\n",
    "        go_map_training.update({pprots : -1 for pprots in predictprots})\n",
    "        pred_map = prediction_func(go_map_training)\n",
    "        scores.append(scoring_func(predictprots, pred_map, true_go_map))\n",
    "    return scores, np.average(scores)\n",
    "\n",
    "def predict_dsd(D_mat, train_go_maps, k = 10):\n",
    "    predprot = [x for x in train_go_maps if train_go_maps[x] == -1]\n",
    "    D_mat1 = D_mat.copy()\n",
    "    D_mat1[range(len(D_mat)), range(len(D_mat))] = np.inf\n",
    "    D_mat1[:, predprot] = np.inf\n",
    "    sortedD = np.argsort(D_mat1, axis = 1)[:, 1:k+1]\n",
    "    def vote(neighbors, go_maps):\n",
    "        gos = {}\n",
    "        for n in neighbors:\n",
    "            for g in go_maps[n]:\n",
    "                if g not in gos:\n",
    "                    gos[g] = 0\n",
    "                gos[g] += 1 \n",
    "        return sorted(gos, key = lambda x : gos[x], reverse=True)\n",
    "    for p in predprot:\n",
    "        train_go_maps[p] = vote(sortedD[p], train_go_maps)\n",
    "    return train_go_maps\n",
    "\n",
    "def predict_dsd_mundo(D_mat, D_other_species, train_go_maps, go_other, k = 10, k_other = 20):\n",
    "    predprot = [x for x in train_go_maps if train_go_maps[x] == -1]\n",
    "    D_mat1 = D_mat.copy()\n",
    "    D_other = D_other_species.copy()\n",
    "    D_mat1[range(len(D_mat)), range(len(D_mat))] = np.inf\n",
    "    D_mat1[:, predprot] = np.inf\n",
    "    sortedD = np.argsort(D_mat1, axis = 1)[:, 1: k+1]\n",
    "    sortedDoth = np.argsort(D_other, axis = 1)[:, 1: k_other+1]\n",
    "    def vote(neighbors, oth_neighbors,  go_maps, vote_other = 0.4):\n",
    "        gos = {}\n",
    "        for n in neighbors:\n",
    "            for g in go_maps[n]:\n",
    "                if g not in gos:\n",
    "                    gos[g] = 0\n",
    "                gos[g] += 1 \n",
    "        for n in oth_neighbors:\n",
    "            for g in go_other[n]:\n",
    "                if g not in gos:\n",
    "                    gos[g] = 0\n",
    "                gos[g] += vote_other  \n",
    "        return sorted(gos, key = lambda x : gos[x], reverse=True)\n",
    "    for p in predprot:\n",
    "        train_go_maps[p] = vote(sortedD[p], sortedDoth[p], train_go_maps)\n",
    "    return train_go_maps\n",
    "\n",
    "def dsd_func(D_mat, k = 10):\n",
    "    def pred(train_go_maps):\n",
    "        return predict_dsd(D_mat, train_go_maps, k = k)\n",
    "    return pred\n",
    "\n",
    "def dsd_func_mundo(D_mat, D_other, go_other, k = 10, k_other = 20):\n",
    "    def pred(train_go_maps):\n",
    "        return predict_dsd_mundo(D_mat, D_other, train_go_maps, go_other, k, k_other)\n",
    "    return pred\n",
    "    \n",
    "def get_go_maps(nmap, gofile):\n",
    "    df = pd.read_csv(gofile, sep = \"\\t\")\n",
    "    gomaps = df.iloc[:, [0, 3]].groupby(\"swissprot\", as_index = False).aggregate(list).values\n",
    "    go_outs = {}\n",
    "    for prot, gos in gomaps:\n",
    "        if prot in nmap:\n",
    "            go_outs[nmap[prot]] = set(gos)\n",
    "    return go_outs"
   ]
  },
  {
   "cell_type": "code",
   "execution_count": 19,
   "metadata": {},
   "outputs": [
    {
     "data": {
      "text/plain": [
       "(6478, 11247)"
      ]
     },
     "execution_count": 19,
     "metadata": {},
     "output_type": "execute_result"
    }
   ],
   "source": [
    "yeastgomap = get_go_maps(yeastmap, \"../data/go/bakers.output.mapping.gaf\")\n",
    "flygomap = get_go_maps(flymap, \"../data/go/fly.output.mapping.gaf\")\n",
    "for i in range(len(yeastmap)):\n",
    "    if i not in yeastgomap:\n",
    "        yeastgomap[i] = {}\n",
    "for i in range(len(flymap)):\n",
    "    if i not in flygomap:\n",
    "        flygomap[i] = {}\n",
    "len(yeastgomap), len(flygomap)"
   ]
  },
  {
   "cell_type": "markdown",
   "metadata": {},
   "source": [
    "# Function Prediction: Without MUNDO output"
   ]
  },
  {
   "cell_type": "code",
   "execution_count": 20,
   "metadata": {},
   "outputs": [],
   "source": [
    "Dfly[range(len(Dfly)), range(len(Dfly))] = np.inf\n",
    "Dyeast[range(len(Dyeast)), range(len(Dyeast))] = np.inf"
   ]
  },
  {
   "cell_type": "code",
   "execution_count": 21,
   "metadata": {},
   "outputs": [
    {
     "data": {
      "text/plain": [
       "([0.16839378238341968,\n",
       "  0.14817190506735087,\n",
       "  0.1378627968337731,\n",
       "  0.14576493762311227,\n",
       "  0.15994623655913978],\n",
       " 0.15202793169335913)"
      ]
     },
     "execution_count": 21,
     "metadata": {},
     "output_type": "execute_result"
    }
   ],
   "source": [
    "compute_metric(dsd_func(Dfly, k=10), topk_accs, list(range(len(flymap))), flygomap, kfold = 5)"
   ]
  },
  {
   "cell_type": "code",
   "execution_count": 118,
   "metadata": {},
   "outputs": [
    {
     "data": {
      "text/plain": [
       "([0.4046692607003891,\n",
       "  0.3892100192678227,\n",
       "  0.3346228239845261,\n",
       "  0.4182547642928786,\n",
       "  0.34408602150537637],\n",
       " 0.3781685779501986)"
      ]
     },
     "execution_count": 118,
     "metadata": {},
     "output_type": "execute_result"
    }
   ],
   "source": [
    "compute_metric(dsd_func(Dyeast, k=10), topk_accs, list(range(len(yeastmap))), yeastgomap, kfold = 5)"
   ]
  },
  {
   "cell_type": "markdown",
   "metadata": {},
   "source": [
    "# Self Attention Model "
   ]
  },
  {
   "cell_type": "code",
   "execution_count": 25,
   "metadata": {},
   "outputs": [],
   "source": [
    "import torch\n",
    "import torch.nn as nn\n",
    "import numpy as np\n",
    "import torch.nn.functional as F\n",
    "from torch.utils.data import Dataset, DataLoader\n",
    "from sklearn.manifold import Isomap\n"
   ]
  },
  {
   "cell_type": "code",
   "execution_count": 4,
   "metadata": {},
   "outputs": [],
   "source": [
    "\n",
    "Dyeast = np.load(\"yeast-dsd-dist.npy\")\n",
    "embedding = Isomap(n_components=100, metric = \"precomputed\")\n",
    "Yeastemb = embedding.fit_transform(Dyeast)"
   ]
  },
  {
   "cell_type": "code",
   "execution_count": 32,
   "metadata": {},
   "outputs": [],
   "source": [
    "# np.save(\"yeast-isomap.npy\", Yeastemb)\n",
    "Yeastemb = np.load(\"yeast-isomap.npy\")\n",
    "# Yeastemb.shape, embedding.reconstruction_error()"
   ]
  },
  {
   "cell_type": "code",
   "execution_count": 28,
   "metadata": {},
   "outputs": [],
   "source": [
    "Dfly = np.load(\"fly-dsd-dist.npy\")\n",
    "Dfly = np.where(Dfly > 10, 10, Dfly)\n",
    "flyemb = Isomap(n_components=100, metric = \"precomputed\")\n",
    "Flyemb = flyemb.fit_transform(Dfly)"
   ]
  },
  {
   "cell_type": "code",
   "execution_count": 29,
   "metadata": {},
   "outputs": [
    {
     "data": {
      "text/plain": [
       "5.89909145774511"
      ]
     },
     "execution_count": 29,
     "metadata": {},
     "output_type": "execute_result"
    }
   ],
   "source": [
    "np.save(\"fly-isomap.npy\", Flyemb)\n",
    "flyemb.reconstruction_error()"
   ]
  },
  {
   "cell_type": "code",
   "execution_count": 30,
   "metadata": {},
   "outputs": [],
   "source": [
    "class MHA(nn.Module):\n",
    "    def __init__(self, n_channel, n_head, n_dim, n_out, activation = \"identity\"):\n",
    "        super(MHA, self).__init__()\n",
    "        activations = {\"relu\" : nn.ReLU(), \"sigmoid\" : nn.Sigmoid(), \"tanh\": nn.Tanh()}\n",
    "        self.Wq = nn.Parameter(torch.randn(n_head, n_dim, n_channel, dtype = torch.float32))\n",
    "        self.Wk = nn.Parameter(torch.randn(n_head, n_dim, n_channel, dtype = torch.float32))\n",
    "        self.Wv = nn.Parameter(torch.randn(n_head, n_dim, n_channel, dtype = torch.float32))\n",
    "        self.drop = nn.Dropout(p=0.2)\n",
    "        self.activation = activations[activation] if activation in activations else nn.Identity()\n",
    "        self.n_channel  = nn.Parameter(torch.tensor(n_channel, dtype = torch.float32), requires_grad = False)\n",
    "        self.Wo = nn.Parameter(torch.randn(n_head * n_channel, n_out))\n",
    "        \n",
    "    def forward(self, X):\n",
    "        # X is batch x n_seq = 100 x n_dim = 1\n",
    "        X1 = X.unsqueeze(1)\n",
    "        q  = torch.matmul(X1, self.Wq) # batch x n_head x n_seq x n_channel\n",
    "        k  = torch.matmul(X1, self.Wk)\n",
    "        v  = torch.matmul(X1, self.Wv)\n",
    "        \n",
    "        att = F.softmax(torch.matmul(q, torch.transpose(k, 2, 3)) / torch.sqrt(self.n_channel), dim = -1) \n",
    "        v = torch.matmul(att, v) # batch x n_head x n_seq x n_channel\n",
    "        v = self.drop(v)\n",
    "        vc = torch.concatenate(torch.unbind(v, 1), axis = -1)\n",
    "        return self.activation(torch.matmul(vc, self.Wo))\n",
    "        \n",
    "        \n",
    "class AttentionModel(nn.Module):\n",
    "    def __init__(self):\n",
    "        super(AttentionModel, self).__init__()\n",
    "        self.mha1 = MHA(10, 4, 1, 4, activation = \"sigmoid\")\n",
    "        self.layer = nn.LayerNorm(4)\n",
    "        self.mha2 = MHA(5, 3, 4, 1)\n",
    "    def forward(self, x):\n",
    "        out = self.mha1(x)\n",
    "        out = self.layer(out)\n",
    "        return self.mha2(out)\n",
    "\n",
    "class Data(Dataset):\n",
    "    def __init__(self, matchfile, no_matches, Xa, Xb, nA, nB):\n",
    "        self.no_matches = no_matches\n",
    "        self.matchdf = pd.read_csv(matchfile, sep = \"\\t\")\n",
    "        \n",
    "        if \"scores\" in self.matchdf.columns:\n",
    "            self.matchdf = self.matchdf.sort_values(by = \"score\", ascending = False).reset_index(drop = True)[: no_matches]\n",
    "        else:\n",
    "            self.matchdf = self.matchdf.loc[: no_matches, :]\n",
    "            # for compatibility\n",
    "            self.matchdf[\"scores\"] = 1\n",
    "        self.nA = nA\n",
    "        self.nB = nB\n",
    "        self.Xa = Xa\n",
    "        self.Xb = Xb\n",
    "        \n",
    "    def __len__(self):\n",
    "        return self.no_matches\n",
    "    \n",
    "    def __getitem__(self, idx):\n",
    "        pa, pb, _= self.matchdf.iloc[idx, :].values\n",
    "        ia, ib = self.nA[pa], self.nB[pb]\n",
    "        return torch.tensor(self.Xa[ia], dtype = torch.float32).unsqueeze(-1), torch.tensor(self.Xb[ib], dtype = torch.float32).unsqueeze(-1)\n",
    "        "
   ]
  },
  {
   "cell_type": "code",
   "execution_count": 33,
   "metadata": {},
   "outputs": [],
   "source": [
    "#Ratemb = np.load(\"rat-isomap.npy\")\n",
    "#Yeastemb = np.load(\"yeast-isomap.npy\")\n",
    "data = Data(\"isorank_fly_bakers.tsv\", 500, Flyemb, Yeastemb, flymap, yeastmap)"
   ]
  },
  {
   "cell_type": "code",
   "execution_count": 34,
   "metadata": {},
   "outputs": [],
   "source": [
    "train, test = torch.utils.data.random_split(data, [450, 50])\n",
    "trainloader = DataLoader(train, shuffle = True, batch_size = 10)\n",
    "testloader = DataLoader(test, shuffle = True, batch_size = 10)"
   ]
  },
  {
   "cell_type": "code",
   "execution_count": 35,
   "metadata": {},
   "outputs": [
    {
     "data": {
      "text/plain": [
       "tensor(0.5517)"
      ]
     },
     "execution_count": 35,
     "metadata": {},
     "output_type": "execute_result"
    }
   ],
   "source": [
    "loss_fn = nn.MSELoss()\n",
    "loss_fn(data[0][0],data[0][1])"
   ]
  },
  {
   "cell_type": "code",
   "execution_count": 36,
   "metadata": {},
   "outputs": [
    {
     "name": "stdout",
     "output_type": "stream",
     "text": [
      "Epoch 1: Loss : 9.104500341415406\n",
      "Epoch 11: Loss : 1.3834210011694166\n",
      "Epoch 21: Loss : 0.873081910610199\n",
      "Epoch 31: Loss : 0.7774844209353129\n",
      "Epoch 41: Loss : 0.7336471690071954\n",
      "Epoch 51: Loss : 0.7168675939242045\n",
      "Epoch 61: Loss : 0.7079815652635363\n",
      "Epoch 71: Loss : 0.7017793907059564\n",
      "Epoch 81: Loss : 0.6997297419442071\n",
      "Epoch 91: Loss : 0.6941977156533136\n"
     ]
    }
   ],
   "source": [
    "model = AttentionModel()\n",
    "model.train()\n",
    "optim = torch.optim.Adam(model.parameters(), lr = 0.001)\n",
    "\n",
    "ep = 100\n",
    "losses = []\n",
    "for e in range(ep):\n",
    "    loss = 0\n",
    "    for i, data in enumerate(trainloader):\n",
    "        y, x = data # y = rat, x = yeast\n",
    "        optim.zero_grad()\n",
    "        yhat = model(x)\n",
    "        closs = loss_fn(y, yhat)\n",
    "        closs.backward()\n",
    "        optim.step()\n",
    "        loss += closs.item()\n",
    "    loss = loss / (i+1)\n",
    "    if e % 10 == 0:\n",
    "        print(f\"Epoch {e+1}: Loss : {loss}\")"
   ]
  },
  {
   "cell_type": "code",
   "execution_count": 37,
   "metadata": {},
   "outputs": [
    {
     "name": "stdout",
     "output_type": "stream",
     "text": [
      "Validation loss: 0.6522220134735107\n"
     ]
    }
   ],
   "source": [
    "testloss = 0\n",
    "model.eval()\n",
    "for i, data in enumerate(testloader):\n",
    "    y, x = data # y = rat, x = yeast\n",
    "    yhat = model(x)\n",
    "    loss = loss_fn(y, yhat)\n",
    "    testloss += loss.item()\n",
    "testloss /= (i+1)\n",
    "print(f\"Validation loss: {testloss}\")"
   ]
  },
  {
   "cell_type": "code",
   "execution_count": 38,
   "metadata": {},
   "outputs": [],
   "source": [
    "allYeastEmb = torch.tensor(Yeastemb, dtype = torch.float32).unsqueeze(-1)\n",
    "with torch.no_grad():\n",
    "    Yeast_FlyT = model(allYeastEmb)"
   ]
  },
  {
   "cell_type": "code",
   "execution_count": 39,
   "metadata": {},
   "outputs": [],
   "source": [
    "yeast_fly = Yeast_FlyT.squeeze().numpy()\n",
    "np.save(\"yeast->fly_emb.npy\", yeast_fly)"
   ]
  },
  {
   "cell_type": "code",
   "execution_count": 40,
   "metadata": {},
   "outputs": [
    {
     "data": {
      "text/plain": [
       "(6478, 100)"
      ]
     },
     "execution_count": 40,
     "metadata": {},
     "output_type": "execute_result"
    }
   ],
   "source": [
    "yeast_fly.shape"
   ]
  },
  {
   "cell_type": "code",
   "execution_count": 41,
   "metadata": {},
   "outputs": [],
   "source": [
    "fly_yeast_dist = cdist(Flyemb, yeast_fly) # If rat => m yeast has size n  => m x n"
   ]
  },
  {
   "cell_type": "markdown",
   "metadata": {},
   "source": [
    "## $\\color{red}{\\text{With MUNDO output (MASSIVE IMPROVEMENT)!}}$"
   ]
  },
  {
   "cell_type": "code",
   "execution_count": 42,
   "metadata": {},
   "outputs": [
    {
     "data": {
      "text/plain": [
       "([0.22215025906735753,\n",
       "  0.22065426555484285,\n",
       "  0.2025065963060686,\n",
       "  0.211424819435325,\n",
       "  0.22311827956989247],\n",
       " 0.21597084398669728)"
      ]
     },
     "execution_count": 42,
     "metadata": {},
     "output_type": "execute_result"
    }
   ],
   "source": [
    "Dfly[range(len(Dfly)), range(len(Dfly))] = np.inf\n",
    "Dyeast[range(len(Dyeast)), range(len(Dyeast))] = np.inf\n",
    "compute_metric(dsd_func_mundo(Dfly, fly_yeast_dist, yeastgomap, k_other=5),\n",
    "               topk_accs, list(range(len(flymap))), flygomap, kfold = 5)"
   ]
  },
  {
   "cell_type": "code",
   "execution_count": 43,
   "metadata": {},
   "outputs": [
    {
     "data": {
      "text/plain": [
       "([0.2648963730569948,\n",
       "  0.2514432328415651,\n",
       "  0.25,\n",
       "  0.247537754432042,\n",
       "  0.260752688172043],\n",
       " 0.254926009700529)"
      ]
     },
     "execution_count": 43,
     "metadata": {},
     "output_type": "execute_result"
    }
   ],
   "source": [
    "compute_metric(dsd_func_mundo(Dfly, fly_yeast_dist, yeastgomap, k_other=20),\n",
    "               topk_accs, list(range(len(flymap))), flygomap, kfold = 5)"
   ]
  }
 ],
 "metadata": {
  "kernelspec": {
   "display_name": "thesis",
   "language": "python",
   "name": "python3"
  },
  "language_info": {
   "codemirror_mode": {
    "name": "ipython",
    "version": 3
   },
   "file_extension": ".py",
   "mimetype": "text/x-python",
   "name": "python",
   "nbconvert_exporter": "python",
   "pygments_lexer": "ipython3",
   "version": "3.10.9"
  }
 },
 "nbformat": 4,
 "nbformat_minor": 2
}
