{
 "cells": [
  {
   "cell_type": "code",
   "execution_count": 1,
   "metadata": {},
   "outputs": [],
   "source": [
    "import glidetools.algorithm.dsd as dsd\n",
    "import pandas as pd\n",
    "import numpy as np\n",
    "import sys\n",
    "import json\n",
    "from scipy.spatial.distance import cdist\n",
    "sys.path.append(\"../src/\")\n",
    "%load_ext autoreload\n",
    "%autoreload 2"
   ]
  },
  {
   "cell_type": "markdown",
   "metadata": {},
   "source": [
    "# Compute DSD matrix of rat and human"
   ]
  },
  {
   "cell_type": "code",
   "execution_count": 2,
   "metadata": {},
   "outputs": [
    {
     "data": {
      "text/html": [
       "<div>\n",
       "<style scoped>\n",
       "    .dataframe tbody tr th:only-of-type {\n",
       "        vertical-align: middle;\n",
       "    }\n",
       "\n",
       "    .dataframe tbody tr th {\n",
       "        vertical-align: top;\n",
       "    }\n",
       "\n",
       "    .dataframe thead th {\n",
       "        text-align: right;\n",
       "    }\n",
       "</style>\n",
       "<table border=\"1\" class=\"dataframe\">\n",
       "  <thead>\n",
       "    <tr style=\"text-align: right;\">\n",
       "      <th></th>\n",
       "      <th>0</th>\n",
       "      <th>1</th>\n",
       "    </tr>\n",
       "  </thead>\n",
       "  <tbody>\n",
       "    <tr>\n",
       "      <th>0</th>\n",
       "      <td>Q13643</td>\n",
       "      <td>Q14192</td>\n",
       "    </tr>\n",
       "    <tr>\n",
       "      <th>1</th>\n",
       "      <td>P42566</td>\n",
       "      <td>P42566</td>\n",
       "    </tr>\n",
       "    <tr>\n",
       "      <th>2</th>\n",
       "      <td>P42566</td>\n",
       "      <td>P42566</td>\n",
       "    </tr>\n",
       "    <tr>\n",
       "      <th>3</th>\n",
       "      <td>P33993</td>\n",
       "      <td>Q14192</td>\n",
       "    </tr>\n",
       "    <tr>\n",
       "      <th>4</th>\n",
       "      <td>P10275</td>\n",
       "      <td>Q14192</td>\n",
       "    </tr>\n",
       "    <tr>\n",
       "      <th>...</th>\n",
       "      <td>...</td>\n",
       "      <td>...</td>\n",
       "    </tr>\n",
       "    <tr>\n",
       "      <th>477327</th>\n",
       "      <td>P38398</td>\n",
       "      <td>P38398</td>\n",
       "    </tr>\n",
       "    <tr>\n",
       "      <th>477328</th>\n",
       "      <td>P38398</td>\n",
       "      <td>Q96RL1</td>\n",
       "    </tr>\n",
       "    <tr>\n",
       "      <th>477329</th>\n",
       "      <td>Q96SB3</td>\n",
       "      <td>P38398</td>\n",
       "    </tr>\n",
       "    <tr>\n",
       "      <th>477330</th>\n",
       "      <td>Q13015</td>\n",
       "      <td>Q7L0X0</td>\n",
       "    </tr>\n",
       "    <tr>\n",
       "      <th>477331</th>\n",
       "      <td>Q13015</td>\n",
       "      <td>Q7L0X0</td>\n",
       "    </tr>\n",
       "  </tbody>\n",
       "</table>\n",
       "<p>477332 rows × 2 columns</p>\n",
       "</div>"
      ],
      "text/plain": [
       "             0       1\n",
       "0       Q13643  Q14192\n",
       "1       P42566  P42566\n",
       "2       P42566  P42566\n",
       "3       P33993  Q14192\n",
       "4       P10275  Q14192\n",
       "...        ...     ...\n",
       "477327  P38398  P38398\n",
       "477328  P38398  Q96RL1\n",
       "477329  Q96SB3  P38398\n",
       "477330  Q13015  Q7L0X0\n",
       "477331  Q13015  Q7L0X0\n",
       "\n",
       "[477332 rows x 2 columns]"
      ]
     },
     "execution_count": 2,
     "metadata": {},
     "output_type": "execute_result"
    }
   ],
   "source": [
    "ratdf = pd.read_csv(\"../data/intact_output/rat.s.tsv\", sep = \"\\t\", header = None)\n",
    "humandf = pd.read_csv(\"../data/intact_output/human.s.tsv\", sep = \"\\t\", header = None)\n",
    "humandf"
   ]
  },
  {
   "cell_type": "code",
   "execution_count": 5,
   "metadata": {},
   "outputs": [
    {
     "name": "stdout",
     "output_type": "stream",
     "text": [
      "         rat  human     score\n",
      "0       7415  20474  0.027355\n",
      "1       5019  20474  0.017599\n",
      "2       6889  20474  0.022956\n",
      "3       4040  30248  0.045050\n",
      "4       9620  30473  0.008254\n",
      "...      ...    ...       ...\n",
      "46546   2588   5645  0.143185\n",
      "46547   4817   5645  0.053850\n",
      "46548  10241   2874  0.017623\n",
      "46549   5970   2874  0.011263\n",
      "46550   7607   7469  0.006246\n",
      "\n",
      "[46551 rows x 3 columns]\n"
     ]
    }
   ],
   "source": [
    "from io_utils import compute_adjacency, compute_pairs\n",
    "Ah, humanmap = compute_adjacency(humandf)\n",
    "Ar, ratmap = compute_adjacency(ratdf)\n",
    "drh = pd.read_csv(\"../data/intact_output/human-rat.tsv\", sep = \"\\t\")\n",
    "Erh = compute_pairs(drh, ratmap, humanmap, \"rat\", \"human\")\n",
    "\n",
    "# (df, nmapA, nmapB, orgA, orgB)\n",
    "# import json\n",
    "# with open(\"yeast.json\", \"w\") as yj, open(\"rat.json\", \"w\") as rj:\n",
    "#     json.dump(yeastmap, yj)\n",
    "#     json.dump(ratmap, rj)"
   ]
  },
  {
   "cell_type": "code",
   "execution_count": 9,
   "metadata": {},
   "outputs": [
    {
     "ename": "AttributeError",
     "evalue": "'Graph' object has no attribute 'degrees'",
     "output_type": "error",
     "traceback": [
      "\u001b[0;31m---------------------------------------------------------------------------\u001b[0m",
      "\u001b[0;31mAttributeError\u001b[0m                            Traceback (most recent call last)",
      "\u001b[0;32m/tmp/ipykernel_38727/1514095043.py\u001b[0m in \u001b[0;36m<module>\u001b[0;34m\u001b[0m\n\u001b[1;32m      4\u001b[0m \u001b[0mcc\u001b[0m \u001b[0;34m=\u001b[0m \u001b[0mmax\u001b[0m\u001b[0;34m(\u001b[0m\u001b[0mnx\u001b[0m\u001b[0;34m.\u001b[0m\u001b[0mconnected_components\u001b[0m\u001b[0;34m(\u001b[0m\u001b[0mGh\u001b[0m\u001b[0;34m)\u001b[0m\u001b[0;34m,\u001b[0m \u001b[0mkey\u001b[0m \u001b[0;34m=\u001b[0m \u001b[0mlen\u001b[0m\u001b[0;34m)\u001b[0m\u001b[0;34m\u001b[0m\u001b[0;34m\u001b[0m\u001b[0m\n\u001b[1;32m      5\u001b[0m \u001b[0mlen\u001b[0m\u001b[0;34m(\u001b[0m\u001b[0mcc\u001b[0m\u001b[0;34m)\u001b[0m\u001b[0;34m\u001b[0m\u001b[0;34m\u001b[0m\u001b[0m\n\u001b[0;32m----> 6\u001b[0;31m \u001b[0mGh\u001b[0m\u001b[0;34m.\u001b[0m\u001b[0mdegrees\u001b[0m\u001b[0;34m(\u001b[0m\u001b[0;34m)\u001b[0m\u001b[0;34m\u001b[0m\u001b[0;34m\u001b[0m\u001b[0m\n\u001b[0m",
      "\u001b[0;31mAttributeError\u001b[0m: 'Graph' object has no attribute 'degrees'"
     ]
    }
   ],
   "source": [
    "import networkx as nx\n",
    "\n",
    "Gh = nx.from_pandas_edgelist(humandf, 0, 1)\n",
    "cc = max(nx.connected_components(Gh), key = len)"
   ]
  },
  {
   "cell_type": "code",
   "execution_count": 23,
   "metadata": {},
   "outputs": [
    {
     "data": {
      "text/html": [
       "<div>\n",
       "<style scoped>\n",
       "    .dataframe tbody tr th:only-of-type {\n",
       "        vertical-align: middle;\n",
       "    }\n",
       "\n",
       "    .dataframe tbody tr th {\n",
       "        vertical-align: top;\n",
       "    }\n",
       "\n",
       "    .dataframe thead th {\n",
       "        text-align: right;\n",
       "    }\n",
       "</style>\n",
       "<table border=\"1\" class=\"dataframe\">\n",
       "  <thead>\n",
       "    <tr style=\"text-align: right;\">\n",
       "      <th></th>\n",
       "      <th>0</th>\n",
       "      <th>1</th>\n",
       "    </tr>\n",
       "  </thead>\n",
       "  <tbody>\n",
       "    <tr>\n",
       "      <th>24214</th>\n",
       "      <td>EBI-16224787</td>\n",
       "      <td>1</td>\n",
       "    </tr>\n",
       "    <tr>\n",
       "      <th>26638</th>\n",
       "      <td>Q9UQ49</td>\n",
       "      <td>2</td>\n",
       "    </tr>\n",
       "    <tr>\n",
       "      <th>11222</th>\n",
       "      <td>A0A380PE32</td>\n",
       "      <td>2</td>\n",
       "    </tr>\n",
       "    <tr>\n",
       "      <th>11995</th>\n",
       "      <td>Q9BQL6</td>\n",
       "      <td>9</td>\n",
       "    </tr>\n",
       "    <tr>\n",
       "      <th>13059</th>\n",
       "      <td>P08637</td>\n",
       "      <td>6</td>\n",
       "    </tr>\n",
       "    <tr>\n",
       "      <th>...</th>\n",
       "      <td>...</td>\n",
       "      <td>...</td>\n",
       "    </tr>\n",
       "    <tr>\n",
       "      <th>32338</th>\n",
       "      <td>P62136-1</td>\n",
       "      <td>47</td>\n",
       "    </tr>\n",
       "    <tr>\n",
       "      <th>32387</th>\n",
       "      <td>O15178</td>\n",
       "      <td>112</td>\n",
       "    </tr>\n",
       "    <tr>\n",
       "      <th>32388</th>\n",
       "      <td>Q05925</td>\n",
       "      <td>71</td>\n",
       "    </tr>\n",
       "    <tr>\n",
       "      <th>32391</th>\n",
       "      <td>Q99581</td>\n",
       "      <td>197</td>\n",
       "    </tr>\n",
       "    <tr>\n",
       "      <th>32417</th>\n",
       "      <td>Q5JZY3</td>\n",
       "      <td>70</td>\n",
       "    </tr>\n",
       "  </tbody>\n",
       "</table>\n",
       "<p>15280 rows × 2 columns</p>\n",
       "</div>"
      ],
      "text/plain": [
       "                  0    1\n",
       "24214  EBI-16224787    1\n",
       "26638        Q9UQ49    2\n",
       "11222    A0A380PE32    2\n",
       "11995        Q9BQL6    9\n",
       "13059        P08637    6\n",
       "...             ...  ...\n",
       "32338      P62136-1   47\n",
       "32387        O15178  112\n",
       "32388        Q05925   71\n",
       "32391        Q99581  197\n",
       "32417        Q5JZY3   70\n",
       "\n",
       "[15280 rows x 2 columns]"
      ]
     },
     "execution_count": 23,
     "metadata": {},
     "output_type": "execute_result"
    },
    {
     "data": {
      "image/png": "[encoded data removed]",
      "text/plain": [
       "<Figure size 432x288 with 1 Axes>"
      ]
     },
     "metadata": {
      "needs_background": "light"
     },
     "output_type": "display_data"
    }
   ],
   "source": [
    "degrees = pd.DataFrame(list(nx.degree(Gh)))\n",
    "degrees[1].hist()\n",
    "degrees = pd.concat([degrees.loc[degrees[1] <= 30, :].sample(10000),\n",
    "                     degrees.loc[degrees[1] > 30, :]])\n",
    "degrees                     "
   ]
  },
  {
   "cell_type": "code",
   "execution_count": 27,
   "metadata": {},
   "outputs": [
    {
     "name": "stdout",
     "output_type": "stream",
     "text": [
      "199110\n"
     ]
    },
    {
     "data": {
      "text/plain": [
       "14588"
      ]
     },
     "execution_count": 27,
     "metadata": {},
     "output_type": "execute_result"
    }
   ],
   "source": [
    "Ghsub = Gh.subgraph(degrees[0].values)\n",
    "print(Ghsub.number_of_edges())\n",
    "Ghcc = max(nx.connected_components(Ghsub), key = len)\n",
    "Ghccsub = Ghsub.subgraph(Ghcc)\n",
    "len(Ghcc)"
   ]
  },
  {
   "cell_type": "code",
   "execution_count": 30,
   "metadata": {},
   "outputs": [],
   "source": [
    "nx.to_pandas_edgelist(Ghccsub).to_csv(\"../data/intact_output/human_sub.s.tsv\", sep = \"\\t\", header = None, index = None)"
   ]
  },
  {
   "cell_type": "code",
   "execution_count": 19,
   "metadata": {},
   "outputs": [],
   "source": [
    "rratmap = {val: key for key, val in ratmap.items()}\n",
    "ryeastmap = {val: key for key, val in yeastmap.items()}"
   ]
  },
  {
   "cell_type": "code",
   "execution_count": 16,
   "metadata": {},
   "outputs": [],
   "source": [
    "def compute_isorank(A1, A2, E, alpha, maxiter = 20, get_R0 = False, get_R1 = False):\n",
    "    \"\"\"\n",
    "    Compute the isorank using the eigendecomposition\n",
    "    \"\"\"\n",
    "\n",
    "    d1 = np.sum(A1, axis = 1).reshape(-1, 1)\n",
    "    d2 = np.sum(A2, axis = 1).reshape(-1, 1)\n",
    "    \n",
    "    P1 = A1 / d1.T\n",
    "    P2 = A2 / d2.T\n",
    "    \n",
    "    E = E / np.sum(E)\n",
    "    \n",
    "    d = d1 @ d2.T \n",
    "    d = d / (np.sum(d1) * np.sum(d2))\n",
    "    \n",
    "    R = (1-alpha) * d + alpha * E\n",
    "    \n",
    "    if maxiter <= 0:\n",
    "        return R\n",
    "    \n",
    "    if get_R0:\n",
    "        R0 = R.copy()\n",
    "    \n",
    "    # Reshape R and E\n",
    "    R = R.T\n",
    "    E = E.T\n",
    "    \n",
    "    for i in range(maxiter):\n",
    "        R = (1-alpha) * (P2 @ R @ P1.T) + alpha * E\n",
    "        if get_R1 and i == 0:\n",
    "            R1 = R.T.copy()\n",
    "            \n",
    "    payload = [R.T]\n",
    "    if get_R1:\n",
    "        payload = [R1] + payload\n",
    "    if get_R0:\n",
    "        payload = [R0] + payload\n",
    "    return payload\n",
    "\n",
    "def compute_greedy_assignment(R1, n_align):\n",
    "    \"\"\"\n",
    "    Compute greedy assignment\n",
    "    \"\"\"\n",
    "    aligned = []\n",
    "    R = R1.copy()\n",
    "    \n",
    "    n_align = min(n_align, *R.shape)\n",
    "    \n",
    "    itr = 1\n",
    "    while(len(aligned) < n_align):\n",
    "        itr   += 1\n",
    "        maxcols = np.argmax(R, axis = 1) # best y ids\n",
    "        maxid = np.argmax(np.max(R, axis = 1)) # best x id\n",
    "        maxcol = maxcols[maxid]\n",
    "        aligned.append((maxid, maxcol))\n",
    "        R[:, maxcol] = -1\n",
    "        R[maxid, :]  = -1\n",
    "    return aligned\n",
    "\n",
    "\n",
    "R0 = compute_isorank(Ar, Ay, Erb, 0.6, -1, get_R0 = False, get_R1 = False)\n",
    "pairs = compute_greedy_assignment(R0, 1000)"
   ]
  },
  {
   "cell_type": "code",
   "execution_count": 22,
   "metadata": {},
   "outputs": [],
   "source": [
    "diso_rat_yeast = pd.DataFrame(pairs, columns = [\"rat\", \"bakers\"])\n",
    "diso_rat_yeast.iloc[:, 0] = diso_rat_yeast.iloc[:, 0].apply(lambda x : rratmap[x])\n",
    "diso_rat_yeast.iloc[:, 1] = diso_rat_yeast.iloc[:, 1].apply(lambda x : ryeastmap[x])\n",
    "diso_rat_yeast.to_csv(\"isorank_rat_bakers.tsv\", sep = \"\\t\", index = None)"
   ]
  },
  {
   "cell_type": "markdown",
   "metadata": {},
   "source": [
    "# Load JSON from file"
   ]
  },
  {
   "cell_type": "code",
   "execution_count": 68,
   "metadata": {},
   "outputs": [
    {
     "data": {
      "text/plain": [
       "[('P38207', 0),\n",
       " ('Q01919', 1),\n",
       " ('P42840', 2),\n",
       " ('P36069', 3),\n",
       " ('P35187', 4),\n",
       " ('P53273', 5),\n",
       " ('Q07410', 6),\n",
       " ('P36009', 7),\n",
       " ('P11076', 8),\n",
       " ('P22135', 9)]"
      ]
     },
     "execution_count": 68,
     "metadata": {},
     "output_type": "execute_result"
    }
   ],
   "source": [
    "list(yeastmap.items())[:10]"
   ]
  },
  {
   "cell_type": "code",
   "execution_count": 10,
   "metadata": {},
   "outputs": [
    {
     "data": {
      "text/plain": [
       "[('P38207', 0),\n",
       " ('Q01919', 1),\n",
       " ('P42840', 2),\n",
       " ('P36069', 3),\n",
       " ('P35187', 4),\n",
       " ('P53273', 5),\n",
       " ('Q07410', 6),\n",
       " ('P36009', 7),\n",
       " ('P11076', 8),\n",
       " ('P22135', 9)]"
      ]
     },
     "execution_count": 10,
     "metadata": {},
     "output_type": "execute_result"
    }
   ],
   "source": [
    "with open(\"yeast.json\", \"r\") as yj, open(\"rat.json\", \"r\") as rj:\n",
    "    yeastmap = json.load(yj)\n",
    "    ratmap = json.load(rj)\n",
    "list(yeastmap.items())[:10]"
   ]
  },
  {
   "cell_type": "markdown",
   "metadata": {},
   "source": [
    "# Compute DSD matrix"
   ]
  },
  {
   "cell_type": "code",
   "execution_count": 34,
   "metadata": {},
   "outputs": [],
   "source": [
    "ADyeast = dsd.compute_dsd_embedding(Ay, is_normalized=False)"
   ]
  },
  {
   "cell_type": "code",
   "execution_count": 35,
   "metadata": {},
   "outputs": [],
   "source": [
    "# np.save(\"yeast-dsd-emb.npy\", ADyeast)\n",
    "ADrat = dsd.compute_dsd_embedding(Ar, is_normalized = False)"
   ]
  },
  {
   "cell_type": "code",
   "execution_count": 36,
   "metadata": {},
   "outputs": [],
   "source": [
    "# np.save(\"rat-dsd-emb.npy\", ADrat)"
   ]
  },
  {
   "cell_type": "markdown",
   "metadata": {},
   "source": [
    "# Load the DSD matrix"
   ]
  },
  {
   "cell_type": "code",
   "execution_count": 3,
   "metadata": {},
   "outputs": [],
   "source": [
    "ADrat = np.load(\"rat-dsd-emb.npy\")\n",
    "ADyeast = np.load(\"yeast-dsd-emb.npy\")"
   ]
  },
  {
   "cell_type": "code",
   "execution_count": 4,
   "metadata": {},
   "outputs": [],
   "source": [
    "from scipy.spatial.distance import pdist, squareform\n",
    "\n",
    "Drat = squareform(pdist(ADrat))\n",
    "Dyeast = squareform(pdist(ADyeast))"
   ]
  },
  {
   "cell_type": "code",
   "execution_count": 4,
   "metadata": {},
   "outputs": [],
   "source": [
    "# np.save(\"rat-dsd-dist.npy\", Drat)\n",
    "# np.save(\"yeast-dsd-dist.npy\", Dyeast)\n",
    "Drat = np.load(\"rat-dsd-dist.npy\")\n",
    "Dyeast = np.load(\"yeast-dsd-dist.npy\")"
   ]
  },
  {
   "cell_type": "markdown",
   "metadata": {},
   "source": [
    "# Load the GO files for the Yeast network"
   ]
  },
  {
   "cell_type": "code",
   "execution_count": 5,
   "metadata": {},
   "outputs": [
    {
     "data": {
      "text/html": [
       "<div>\n",
       "<style scoped>\n",
       "    .dataframe tbody tr th:only-of-type {\n",
       "        vertical-align: middle;\n",
       "    }\n",
       "\n",
       "    .dataframe tbody tr th {\n",
       "        vertical-align: top;\n",
       "    }\n",
       "\n",
       "    .dataframe thead th {\n",
       "        text-align: right;\n",
       "    }\n",
       "</style>\n",
       "<table border=\"1\" class=\"dataframe\">\n",
       "  <thead>\n",
       "    <tr style=\"text-align: right;\">\n",
       "      <th></th>\n",
       "      <th>GO</th>\n",
       "      <th>type</th>\n",
       "      <th>sgd</th>\n",
       "      <th>swissprot</th>\n",
       "    </tr>\n",
       "  </thead>\n",
       "  <tbody>\n",
       "    <tr>\n",
       "      <th>0</th>\n",
       "      <td>GO:0000006</td>\n",
       "      <td>molecular_function</td>\n",
       "      <td>S000003224</td>\n",
       "      <td>P32804</td>\n",
       "    </tr>\n",
       "    <tr>\n",
       "      <th>1</th>\n",
       "      <td>GO:0000006</td>\n",
       "      <td>molecular_function</td>\n",
       "      <td>S000003224</td>\n",
       "      <td>P32804</td>\n",
       "    </tr>\n",
       "    <tr>\n",
       "      <th>2</th>\n",
       "      <td>GO:0000007</td>\n",
       "      <td>molecular_function</td>\n",
       "      <td>S000004120</td>\n",
       "      <td>Q12436</td>\n",
       "    </tr>\n",
       "    <tr>\n",
       "      <th>3</th>\n",
       "      <td>GO:0000007</td>\n",
       "      <td>molecular_function</td>\n",
       "      <td>S000004120</td>\n",
       "      <td>Q12436</td>\n",
       "    </tr>\n",
       "    <tr>\n",
       "      <th>4</th>\n",
       "      <td>GO:0000009</td>\n",
       "      <td>molecular_function</td>\n",
       "      <td>S000000208</td>\n",
       "      <td>P38211</td>\n",
       "    </tr>\n",
       "    <tr>\n",
       "      <th>...</th>\n",
       "      <td>...</td>\n",
       "      <td>...</td>\n",
       "      <td>...</td>\n",
       "      <td>...</td>\n",
       "    </tr>\n",
       "    <tr>\n",
       "      <th>61177</th>\n",
       "      <td>GO:1990468</td>\n",
       "      <td>cellular_component</td>\n",
       "      <td>S000004447</td>\n",
       "      <td>Q06188</td>\n",
       "    </tr>\n",
       "    <tr>\n",
       "      <th>61178</th>\n",
       "      <td>GO:1990468</td>\n",
       "      <td>cellular_component</td>\n",
       "      <td>S000006235</td>\n",
       "      <td>Q12311</td>\n",
       "    </tr>\n",
       "    <tr>\n",
       "      <th>61179</th>\n",
       "      <td>GO:1990537</td>\n",
       "      <td>cellular_component</td>\n",
       "      <td>S000003345</td>\n",
       "      <td>P53267</td>\n",
       "    </tr>\n",
       "    <tr>\n",
       "      <th>61180</th>\n",
       "      <td>GO:1990860</td>\n",
       "      <td>cellular_component</td>\n",
       "      <td>S000005952</td>\n",
       "      <td>P17157</td>\n",
       "    </tr>\n",
       "    <tr>\n",
       "      <th>61181</th>\n",
       "      <td>GO:1990860</td>\n",
       "      <td>cellular_component</td>\n",
       "      <td>S000005361</td>\n",
       "      <td>P20052</td>\n",
       "    </tr>\n",
       "  </tbody>\n",
       "</table>\n",
       "<p>61182 rows × 4 columns</p>\n",
       "</div>"
      ],
      "text/plain": [
       "               GO                type         sgd swissprot\n",
       "0      GO:0000006  molecular_function  S000003224    P32804\n",
       "1      GO:0000006  molecular_function  S000003224    P32804\n",
       "2      GO:0000007  molecular_function  S000004120    Q12436\n",
       "3      GO:0000007  molecular_function  S000004120    Q12436\n",
       "4      GO:0000009  molecular_function  S000000208    P38211\n",
       "...           ...                 ...         ...       ...\n",
       "61177  GO:1990468  cellular_component  S000004447    Q06188\n",
       "61178  GO:1990468  cellular_component  S000006235    Q12311\n",
       "61179  GO:1990537  cellular_component  S000003345    P53267\n",
       "61180  GO:1990860  cellular_component  S000005952    P17157\n",
       "61181  GO:1990860  cellular_component  S000005361    P20052\n",
       "\n",
       "[61182 rows x 4 columns]"
      ]
     },
     "execution_count": 5,
     "metadata": {},
     "output_type": "execute_result"
    }
   ],
   "source": [
    "ynet = pd.read_csv(\"../data/go/bakers.output.mapping.gaf\", sep = \"\\t\")\n",
    "ynet"
   ]
  },
  {
   "cell_type": "code",
   "execution_count": 6,
   "metadata": {},
   "outputs": [
    {
     "data": {
      "text/html": [
       "<div>\n",
       "<style scoped>\n",
       "    .dataframe tbody tr th:only-of-type {\n",
       "        vertical-align: middle;\n",
       "    }\n",
       "\n",
       "    .dataframe tbody tr th {\n",
       "        vertical-align: top;\n",
       "    }\n",
       "\n",
       "    .dataframe thead th {\n",
       "        text-align: right;\n",
       "    }\n",
       "</style>\n",
       "<table border=\"1\" class=\"dataframe\">\n",
       "  <thead>\n",
       "    <tr style=\"text-align: right;\">\n",
       "      <th></th>\n",
       "      <th>GO</th>\n",
       "      <th>type</th>\n",
       "      <th>rgd</th>\n",
       "      <th>swissprot</th>\n",
       "    </tr>\n",
       "  </thead>\n",
       "  <tbody>\n",
       "    <tr>\n",
       "      <th>0</th>\n",
       "      <td>GO:0000009</td>\n",
       "      <td>molecular_function</td>\n",
       "      <td>1309526</td>\n",
       "      <td>Q5KR61</td>\n",
       "    </tr>\n",
       "    <tr>\n",
       "      <th>1</th>\n",
       "      <td>GO:0000010</td>\n",
       "      <td>molecular_function</td>\n",
       "      <td>1359372</td>\n",
       "      <td>Q5U2R1</td>\n",
       "    </tr>\n",
       "    <tr>\n",
       "      <th>2</th>\n",
       "      <td>GO:0000010</td>\n",
       "      <td>molecular_function</td>\n",
       "      <td>1359372</td>\n",
       "      <td>Q5U2R1</td>\n",
       "    </tr>\n",
       "    <tr>\n",
       "      <th>3</th>\n",
       "      <td>GO:0000014</td>\n",
       "      <td>molecular_function</td>\n",
       "      <td>1308872</td>\n",
       "      <td>B1WC58</td>\n",
       "    </tr>\n",
       "    <tr>\n",
       "      <th>4</th>\n",
       "      <td>GO:0000014</td>\n",
       "      <td>molecular_function</td>\n",
       "      <td>1565882</td>\n",
       "      <td>Q5I0M0</td>\n",
       "    </tr>\n",
       "    <tr>\n",
       "      <th>...</th>\n",
       "      <td>...</td>\n",
       "      <td>...</td>\n",
       "      <td>...</td>\n",
       "      <td>...</td>\n",
       "    </tr>\n",
       "    <tr>\n",
       "      <th>133498</th>\n",
       "      <td>GO:1990780</td>\n",
       "      <td>cellular_component</td>\n",
       "      <td>632281</td>\n",
       "      <td>O35274</td>\n",
       "    </tr>\n",
       "    <tr>\n",
       "      <th>133499</th>\n",
       "      <td>GO:1990812</td>\n",
       "      <td>cellular_component</td>\n",
       "      <td>2122</td>\n",
       "      <td>P46933</td>\n",
       "    </tr>\n",
       "    <tr>\n",
       "      <th>133500</th>\n",
       "      <td>GO:1990812</td>\n",
       "      <td>cellular_component</td>\n",
       "      <td>2139</td>\n",
       "      <td>P08592</td>\n",
       "    </tr>\n",
       "    <tr>\n",
       "      <th>133501</th>\n",
       "      <td>GO:1990812</td>\n",
       "      <td>cellular_component</td>\n",
       "      <td>2623</td>\n",
       "      <td>Q80WE1</td>\n",
       "    </tr>\n",
       "    <tr>\n",
       "      <th>133502</th>\n",
       "      <td>GO:1990812</td>\n",
       "      <td>cellular_component</td>\n",
       "      <td>2623</td>\n",
       "      <td>Q80WE1</td>\n",
       "    </tr>\n",
       "  </tbody>\n",
       "</table>\n",
       "<p>133503 rows × 4 columns</p>\n",
       "</div>"
      ],
      "text/plain": [
       "                GO                type      rgd swissprot\n",
       "0       GO:0000009  molecular_function  1309526    Q5KR61\n",
       "1       GO:0000010  molecular_function  1359372    Q5U2R1\n",
       "2       GO:0000010  molecular_function  1359372    Q5U2R1\n",
       "3       GO:0000014  molecular_function  1308872    B1WC58\n",
       "4       GO:0000014  molecular_function  1565882    Q5I0M0\n",
       "...            ...                 ...      ...       ...\n",
       "133498  GO:1990780  cellular_component   632281    O35274\n",
       "133499  GO:1990812  cellular_component     2122    P46933\n",
       "133500  GO:1990812  cellular_component     2139    P08592\n",
       "133501  GO:1990812  cellular_component     2623    Q80WE1\n",
       "133502  GO:1990812  cellular_component     2623    Q80WE1\n",
       "\n",
       "[133503 rows x 4 columns]"
      ]
     },
     "execution_count": 6,
     "metadata": {},
     "output_type": "execute_result"
    }
   ],
   "source": [
    "rnet = pd.read_csv(\"../data/go/rat.output.mapping.gaf\", sep = \"\\t\")\n",
    "rnet"
   ]
  },
  {
   "cell_type": "code",
   "execution_count": 7,
   "metadata": {},
   "outputs": [
    {
     "data": {
      "text/plain": [
       "array([['A0A096MJN4',\n",
       "        list(['GO:0000287', 'GO:0003924', 'GO:0005525', 'GO:0005525', 'GO:0005525', 'GO:0005525', 'GO:0030382', 'GO:0031398', 'GO:0043065', 'GO:2000647', 'GO:2001244', 'GO:0005739', 'GO:0005856', 'GO:0030424', 'GO:0030425', 'GO:0031514', 'GO:0036126'])],\n",
       "       ['A0A096MJY4',\n",
       "        list(['GO:0000976', 'GO:0000976', 'GO:0000977', 'GO:0000977', 'GO:0000977', 'GO:0000977', 'GO:0000977', 'GO:0000977', 'GO:0000978', 'GO:0000987', 'GO:0003680', 'GO:0003680', 'GO:0043565', 'GO:0061629', 'GO:0061629', 'GO:1990837', 'GO:0000122', 'GO:0000122', 'GO:0000122', 'GO:0000122', 'GO:0001947', 'GO:0001947', 'GO:0002634', 'GO:0002634', 'GO:0003138', 'GO:0003138', 'GO:0003139', 'GO:0003139', 'GO:0006351', 'GO:0006351', 'GO:0006355', 'GO:0006355', 'GO:0006357', 'GO:0007519', 'GO:0010613', 'GO:0010628', 'GO:0010628', 'GO:0010628', 'GO:0010629', 'GO:0010629', 'GO:0010694', 'GO:0010694', 'GO:0014033', 'GO:0014033', 'GO:0014902', 'GO:0014902', 'GO:0030224', 'GO:0030279', 'GO:0030279', 'GO:0030279', 'GO:0030318', 'GO:0030318', 'GO:0030501', 'GO:0030501', 'GO:0030890', 'GO:0030890', 'GO:0035984', 'GO:0035984', 'GO:0042100', 'GO:0042100', 'GO:0043406', 'GO:0043523', 'GO:0043523', 'GO:0043524', 'GO:0043524', 'GO:0043524', 'GO:0043537', 'GO:0043537', 'GO:0045652', 'GO:0045652', 'GO:0045663', 'GO:0045663', 'GO:0045663', 'GO:0045666', 'GO:0045666', 'GO:0045669', 'GO:0045669', 'GO:0045893', 'GO:0045893', 'GO:0045893', 'GO:0045893', 'GO:0045893', 'GO:0045893', 'GO:0045893', 'GO:0045893', 'GO:0045893', 'GO:0045944', 'GO:0045944', 'GO:0045944', 'GO:0045944', 'GO:0045944', 'GO:0045944', 'GO:0045944', 'GO:0045944', 'GO:0048643', 'GO:0048643', 'GO:0048643', 'GO:0048667', 'GO:0048667', 'GO:0048704', 'GO:0050680', 'GO:0050853', 'GO:0050853', 'GO:0051145', 'GO:0051963', 'GO:0051966', 'GO:0055007', 'GO:0055012', 'GO:0055012', 'GO:0060025', 'GO:0060025', 'GO:0060045', 'GO:0060045', 'GO:0060079', 'GO:0060079', 'GO:0060297', 'GO:0061333', 'GO:0061333', 'GO:0071222', 'GO:0071222', 'GO:0071277', 'GO:0071277', 'GO:0071300', 'GO:0071333', 'GO:0071374', 'GO:0071374', 'GO:0071374', 'GO:0071407', 'GO:0071560', 'GO:0071560', 'GO:0071560', 'GO:0071864', 'GO:0072160', 'GO:0072160', 'GO:0097492', 'GO:1902287', 'GO:1904706', 'GO:1904706', 'GO:1904753', 'GO:1904753', 'GO:1905563', 'GO:1905563', 'GO:2000111', 'GO:2000111', 'GO:2000310', 'GO:2000310', 'GO:2000311', 'GO:2000311', 'GO:2000727', 'GO:2000727', 'GO:2000727', 'GO:2000727', 'GO:2000727', 'GO:2000987', 'GO:2000987', 'GO:2001016', 'GO:2001016', 'GO:2001016', 'GO:0005634', 'GO:0005634', 'GO:0005634', 'GO:0005634', 'GO:0005634', 'GO:0005634', 'GO:0005634', 'GO:0005634', 'GO:0005634', 'GO:0005634'])],\n",
       "       ['A0A096MJZ0', list(['GO:0043014', 'GO:0036158', 'GO:0005874'])],\n",
       "       ...,\n",
       "       ['Q9Z336',\n",
       "        list(['GO:0000132', 'GO:0000132', 'GO:0008277', 'GO:0008277', 'GO:0010976', 'GO:0010976', 'GO:0019060', 'GO:0035022', 'GO:0035795', 'GO:0043087', 'GO:0048812', 'GO:0050768', 'GO:0050768', 'GO:0051493', 'GO:0060548', 'GO:0061564', 'GO:0070373', 'GO:0005739', 'GO:0005794', 'GO:0005819', 'GO:0005881', 'GO:0099503'])],\n",
       "       ['Q9Z339',\n",
       "        list(['GO:0050610', 'GO:0050610', 'GO:0050610', 'GO:0010880', 'GO:0010880', 'GO:0019853', 'GO:0060315', 'GO:0060315', 'GO:0060316', 'GO:0060316', 'GO:0005604', 'GO:0030424'])],\n",
       "       ['Q9Z340',\n",
       "        list(['GO:0019903', 'GO:0019903', 'GO:0032266', 'GO:0002092', 'GO:0003383', 'GO:0006612', 'GO:0010801', 'GO:0010801', 'GO:0022011', 'GO:0022011', 'GO:0031643', 'GO:0031643', 'GO:0045197', 'GO:0045197', 'GO:0070830', 'GO:0005819', 'GO:0005912', 'GO:0005923', 'GO:0005923', 'GO:0005923', 'GO:0043296', 'GO:0120157'])]],\n",
       "      dtype=object)"
      ]
     },
     "execution_count": 7,
     "metadata": {},
     "output_type": "execute_result"
    }
   ],
   "source": [
    "rnet.iloc[:, [0, 3]].groupby(\"swissprot\", as_index = False).aggregate(list).values"
   ]
  },
  {
   "cell_type": "code",
   "execution_count": 33,
   "metadata": {},
   "outputs": [],
   "source": [
    "def topk_acc(golists = {}, go = None, k = 1):\n",
    "    if len(golists) == 0:\n",
    "        return None\n",
    "    elif go == None:\n",
    "        return 0\n",
    "    else:\n",
    "        go_k = set(go[: min(k, len(go))])\n",
    "        return len(go_k.intersection(golists)) / k\n",
    "    \n",
    "def topk_accs(prots, pred_go_map, true_go_map, k = 1):\n",
    "    accs = [topk_acc(true_go_map[p], pred_go_map[p], k) for p in prots]\n",
    "    accs = list(filter(lambda x : x is not None, accs))\n",
    "    return np.average(accs)\n",
    "\n",
    "def compute_metric(prediction_func, scoring_func, allprots, true_go_map, kfold = 5):\n",
    "    np.random.seed(137)\n",
    "    permprots = np.random.permutation(allprots)\n",
    "    blocksize = int(len(allprots) / kfold)\n",
    "    scores = []\n",
    "    for i in range(kfold):\n",
    "        predictprots = permprots[i * blocksize: (i+1) * blocksize]\n",
    "        trainprots = np.concatenate([permprots[: i * blocksize], permprots[(i+1) * blocksize : ]])\n",
    "        go_map_training = {tprots: true_go_map[tprots] for tprots in trainprots}\n",
    "        go_map_training.update({pprots : -1 for pprots in predictprots})\n",
    "        pred_map = prediction_func(go_map_training)\n",
    "        scores.append(scoring_func(predictprots, pred_map, true_go_map))\n",
    "    return scores, np.average(scores)\n",
    "\n",
    "def predict_dsd(D_mat, train_go_maps, k = 10):\n",
    "    predprot = [x for x in train_go_maps if train_go_maps[x] == -1]\n",
    "    D_mat1 = D_mat.copy()\n",
    "    D_mat1[range(len(D_mat)), range(len(D_mat))] = np.inf\n",
    "    D_mat1[:, predprot] = np.inf\n",
    "    sortedD = np.argsort(D_mat1, axis = 1)[:, 1:k+1]\n",
    "    def vote(neighbors, go_maps):\n",
    "        gos = {}\n",
    "        for n in neighbors:\n",
    "            for g in go_maps[n]:\n",
    "                if g not in gos:\n",
    "                    gos[g] = 0\n",
    "                gos[g] += 1 \n",
    "        return sorted(gos, key = lambda x : gos[x], reverse=True)\n",
    "    for p in predprot:\n",
    "        train_go_maps[p] = vote(sortedD[p], train_go_maps)\n",
    "    return train_go_maps\n",
    "\n",
    "def predict_dsd_mundo(D_mat, D_other_species, train_go_maps, go_other, k = 10, k_other = 20):\n",
    "    predprot = [x for x in train_go_maps if train_go_maps[x] == -1]\n",
    "    D_mat1 = D_mat.copy()\n",
    "    D_other = D_other_species.copy()\n",
    "    D_mat1[range(len(D_mat)), range(len(D_mat))] = np.inf\n",
    "    D_mat1[:, predprot] = np.inf\n",
    "    sortedD = np.argsort(D_mat1, axis = 1)[:, 1: k+1]\n",
    "    sortedDoth = np.argsort(D_other, axis = 1)[:, 1: k_other+1]\n",
    "    def vote(neighbors, oth_neighbors,  go_maps, vote_other = 0.4):\n",
    "        gos = {}\n",
    "        for n in neighbors:\n",
    "            for g in go_maps[n]:\n",
    "                if g not in gos:\n",
    "                    gos[g] = 0\n",
    "                gos[g] += 1 \n",
    "        for n in oth_neighbors:\n",
    "            for g in go_other[n]:\n",
    "                if g not in gos:\n",
    "                    gos[g] = 0\n",
    "                gos[g] += vote_other  \n",
    "        return sorted(gos, key = lambda x : gos[x], reverse=True)\n",
    "    for p in predprot:\n",
    "        train_go_maps[p] = vote(sortedD[p], sortedDoth[p], train_go_maps)\n",
    "    return train_go_maps\n",
    "\n",
    "def dsd_func(D_mat, k = 10):\n",
    "    def pred(train_go_maps):\n",
    "        return predict_dsd(D_mat, train_go_maps, k = k)\n",
    "    return pred\n",
    "\n",
    "def dsd_func_mundo(D_mat, D_other, go_other, k = 10, k_other = 20):\n",
    "    def pred(train_go_maps):\n",
    "        return predict_dsd_mundo(D_mat, D_other, train_go_maps, go_other, k, k_other)\n",
    "    return pred\n",
    "    \n",
    "def get_go_maps(nmap, gofile):\n",
    "    df = pd.read_csv(gofile, sep = \"\\t\")\n",
    "    gomaps = df.iloc[:, [0, 3]].groupby(\"swissprot\", as_index = False).aggregate(list).values\n",
    "    go_outs = {}\n",
    "    for prot, gos in gomaps:\n",
    "        if prot in nmap:\n",
    "            go_outs[nmap[prot]] = set(gos)\n",
    "    return go_outs"
   ]
  },
  {
   "cell_type": "code",
   "execution_count": 35,
   "metadata": {},
   "outputs": [
    {
     "data": {
      "text/plain": [
       "(6478, 10792)"
      ]
     },
     "execution_count": 35,
     "metadata": {},
     "output_type": "execute_result"
    }
   ],
   "source": [
    "yeastgomap = get_go_maps(yeastmap, \"../data/go/bakers.output.mapping.gaf\")\n",
    "ratgomap = get_go_maps(ratmap, \"../data/go/rat.output.mapping.gaf\")\n",
    "for i in range(len(yeastmap)):\n",
    "    if i not in yeastgomap:\n",
    "        yeastgomap[i] = {}\n",
    "for i in range(len(ratmap)):\n",
    "    if i not in ratgomap:\n",
    "        ratgomap[i] = {}\n",
    "len(yeastgomap), len(ratgomap)"
   ]
  },
  {
   "cell_type": "code",
   "execution_count": 31,
   "metadata": {},
   "outputs": [],
   "source": [
    "Drat[range(len(Drat)), range(len(Drat))] = np.inf\n",
    "Dyeast[range(len(Dyeast)), range(len(Dyeast))] = np.inf"
   ]
  },
  {
   "cell_type": "markdown",
   "metadata": {},
   "source": [
    "# Function Prediction: Without MUNDO output"
   ]
  },
  {
   "cell_type": "code",
   "execution_count": 13,
   "metadata": {},
   "outputs": [
    {
     "data": {
      "text/plain": [
       "([0.05504587155963303,\n",
       "  0.04788732394366197,\n",
       "  0.04105571847507331,\n",
       "  0.03856749311294766,\n",
       "  0.024242424242424242],\n",
       " 0.04135976626674804)"
      ]
     },
     "execution_count": 13,
     "metadata": {},
     "output_type": "execute_result"
    }
   ],
   "source": [
    "compute_metric(dsd_func(Drat, k=10), topk_accs, list(range(len(ratmap))), ratgomap, kfold = 5)"
   ]
  },
  {
   "cell_type": "code",
   "execution_count": 118,
   "metadata": {},
   "outputs": [
    {
     "data": {
      "text/plain": [
       "([0.4046692607003891,\n",
       "  0.3892100192678227,\n",
       "  0.3346228239845261,\n",
       "  0.4182547642928786,\n",
       "  0.34408602150537637],\n",
       " 0.3781685779501986)"
      ]
     },
     "execution_count": 118,
     "metadata": {},
     "output_type": "execute_result"
    }
   ],
   "source": [
    "compute_metric(dsd_func(Dyeast, k=10), topk_accs, list(range(len(yeastmap))), yeastgomap, kfold = 5)"
   ]
  },
  {
   "cell_type": "markdown",
   "metadata": {},
   "source": [
    "# Self Attention Model "
   ]
  },
  {
   "cell_type": "code",
   "execution_count": 3,
   "metadata": {},
   "outputs": [],
   "source": [
    "import torch\n",
    "import torch.nn as nn\n",
    "import numpy as np\n",
    "import torch.nn.functional as F\n",
    "from torch.utils.data import Dataset, DataLoader"
   ]
  },
  {
   "cell_type": "code",
   "execution_count": 4,
   "metadata": {},
   "outputs": [],
   "source": [
    "from sklearn.manifold import Isomap\n",
    "\n",
    "Drat = np.load(\"rat-dsd-dist.npy\")\n",
    "Dyeast = np.load(\"yeast-dsd-dist.npy\")\n",
    "embedding = Isomap(n_components=100, metric = \"precomputed\")\n",
    "Yeastemb = embedding.fit_transform(Dyeast)"
   ]
  },
  {
   "cell_type": "code",
   "execution_count": 5,
   "metadata": {},
   "outputs": [
    {
     "data": {
      "text/plain": [
       "((6478, 100), 0.47086101173166933)"
      ]
     },
     "execution_count": 5,
     "metadata": {},
     "output_type": "execute_result"
    }
   ],
   "source": [
    "# np.save(\"yeast-isomap.npy\", Yeastemb)\n",
    "Yeastemb.shape, embedding.reconstruction_error()"
   ]
  },
  {
   "cell_type": "code",
   "execution_count": 18,
   "metadata": {},
   "outputs": [],
   "source": [
    "Drat1 = np.where(Drat > 10, 10, Drat)\n",
    "ratemb = Isomap(n_components=100, metric = \"precomputed\")\n",
    "Ratemb = ratemb.fit_transform(Drat1)"
   ]
  },
  {
   "cell_type": "code",
   "execution_count": 19,
   "metadata": {},
   "outputs": [],
   "source": [
    "ratemb.reconstruction_error()\n",
    "np.save(\"rat-isomap.npy\", Ratemb)"
   ]
  },
  {
   "cell_type": "code",
   "execution_count": 20,
   "metadata": {},
   "outputs": [
    {
     "data": {
      "text/plain": [
       "154.40492926819678"
      ]
     },
     "execution_count": 20,
     "metadata": {},
     "output_type": "execute_result"
    }
   ],
   "source": [
    "ratemb.reconstruction_error()"
   ]
  },
  {
   "cell_type": "code",
   "execution_count": 21,
   "metadata": {},
   "outputs": [],
   "source": [
    "class MHA(nn.Module):\n",
    "    def __init__(self, n_channel, n_head, n_dim, n_out, activation = \"identity\"):\n",
    "        super(MHA, self).__init__()\n",
    "        activations = {\"relu\" : nn.ReLU(), \"sigmoid\" : nn.Sigmoid(), \"tanh\": nn.Tanh()}\n",
    "        self.Wq = nn.Parameter(torch.randn(n_head, n_dim, n_channel, dtype = torch.float32))\n",
    "        self.Wk = nn.Parameter(torch.randn(n_head, n_dim, n_channel, dtype = torch.float32))\n",
    "        self.Wv = nn.Parameter(torch.randn(n_head, n_dim, n_channel, dtype = torch.float32))\n",
    "        self.drop = nn.Dropout(p=0.2)\n",
    "        self.activation = activations[activation] if activation in activations else nn.Identity()\n",
    "        self.n_channel  = nn.Parameter(torch.tensor(n_channel, dtype = torch.float32), requires_grad = False)\n",
    "        self.Wo = nn.Parameter(torch.randn(n_head * n_channel, n_out))\n",
    "        \n",
    "    def forward(self, X):\n",
    "        # X is batch x n_seq = 100 x n_dim = 1\n",
    "        X1 = X.unsqueeze(1)\n",
    "        q  = torch.matmul(X1, self.Wq) # batch x n_head x n_seq x n_channel\n",
    "        k  = torch.matmul(X1, self.Wk)\n",
    "        v  = torch.matmul(X1, self.Wv)\n",
    "        \n",
    "        att = F.softmax(torch.matmul(q, torch.transpose(k, 2, 3)) / torch.sqrt(self.n_channel), dim = -1) \n",
    "        v = torch.matmul(att, v) # batch x n_head x n_seq x n_channel\n",
    "        v = self.drop(v)\n",
    "        vc = torch.concatenate(torch.unbind(v, 1), axis = -1)\n",
    "        return self.activation(torch.matmul(vc, self.Wo))\n",
    "        \n",
    "        \n",
    "class AttentionModel(nn.Module):\n",
    "    def __init__(self):\n",
    "        super(AttentionModel, self).__init__()\n",
    "        self.mha1 = MHA(10, 4, 1, 4, activation = \"sigmoid\")\n",
    "        self.layer = nn.LayerNorm(4)\n",
    "        self.mha2 = MHA(5, 3, 4, 1)\n",
    "    def forward(self, x):\n",
    "        out = self.mha1(x)\n",
    "        out = self.layer(out)\n",
    "        return self.mha2(out)\n",
    "\n",
    "class Data(Dataset):\n",
    "    def __init__(self, matchfile, no_matches, Xa, Xb, nA, nB):\n",
    "        self.no_matches = no_matches\n",
    "        self.matchdf = pd.read_csv(matchfile, sep = \"\\t\")\n",
    "        \n",
    "        if \"scores\" in self.matchdf.columns:\n",
    "            self.matchdf = self.matchdf.sort_values(by = \"score\", ascending = False).reset_index(drop = True)[: no_matches]\n",
    "        else:\n",
    "            self.matchdf = self.matchdf.loc[: no_matches, :]\n",
    "            # for compatibility\n",
    "            self.matchdf[\"scores\"] = 1\n",
    "        self.nA = nA\n",
    "        self.nB = nB\n",
    "        self.Xa = Xa\n",
    "        self.Xb = Xb\n",
    "        \n",
    "    def __len__(self):\n",
    "        return self.no_matches\n",
    "    \n",
    "    def __getitem__(self, idx):\n",
    "        pa, pb, _= self.matchdf.iloc[idx, :].values\n",
    "        ia, ib = self.nA[pa], self.nB[pb]\n",
    "        return torch.tensor(self.Xa[ia], dtype = torch.float32).unsqueeze(-1), torch.tensor(self.Xb[ib], dtype = torch.float32).unsqueeze(-1)\n",
    "        "
   ]
  },
  {
   "cell_type": "code",
   "execution_count": 22,
   "metadata": {},
   "outputs": [],
   "source": [
    "#Ratemb = np.load(\"rat-isomap.npy\")\n",
    "#Yeastemb = np.load(\"yeast-isomap.npy\")\n",
    "data = Data(\"isorank_rat_bakers.tsv\", 500, Ratemb, Yeastemb, ratmap, yeastmap)"
   ]
  },
  {
   "cell_type": "code",
   "execution_count": 23,
   "metadata": {},
   "outputs": [],
   "source": [
    "train, test = torch.utils.data.random_split(data, [450, 50])\n",
    "trainloader = DataLoader(train, shuffle = True, batch_size = 10)\n",
    "testloader = DataLoader(test, shuffle = True, batch_size = 10)"
   ]
  },
  {
   "cell_type": "code",
   "execution_count": 24,
   "metadata": {},
   "outputs": [
    {
     "data": {
      "text/plain": [
       "tensor(2.3539)"
      ]
     },
     "execution_count": 24,
     "metadata": {},
     "output_type": "execute_result"
    }
   ],
   "source": [
    "loss_fn = nn.MSELoss()\n",
    "loss_fn(data[0][0],data[0][1])"
   ]
  },
  {
   "cell_type": "code",
   "execution_count": 25,
   "metadata": {},
   "outputs": [
    {
     "name": "stdout",
     "output_type": "stream",
     "text": [
      "Epoch 1: Loss : 9.55410001542833\n",
      "Epoch 11: Loss : 6.889253854751587\n",
      "Epoch 21: Loss : 6.841670523749458\n",
      "Epoch 31: Loss : 6.81361510488722\n",
      "Epoch 41: Loss : 6.817086903254191\n",
      "Epoch 51: Loss : 6.809339904785157\n",
      "Epoch 61: Loss : 6.809415372212728\n",
      "Epoch 71: Loss : 6.804392910003662\n",
      "Epoch 81: Loss : 6.802529101901584\n",
      "Epoch 91: Loss : 6.803723340564304\n"
     ]
    }
   ],
   "source": [
    "model = AttentionModel()\n",
    "model.train()\n",
    "optim = torch.optim.Adam(model.parameters(), lr = 0.001)\n",
    "\n",
    "ep = 100\n",
    "losses = []\n",
    "for e in range(ep):\n",
    "    loss = 0\n",
    "    for i, data in enumerate(trainloader):\n",
    "        y, x = data # y = rat, x = yeast\n",
    "        optim.zero_grad()\n",
    "        yhat = model(x)\n",
    "        closs = loss_fn(y, yhat)\n",
    "        closs.backward()\n",
    "        optim.step()\n",
    "        loss += closs.item()\n",
    "    loss = loss / (i+1)\n",
    "    if e % 10 == 0:\n",
    "        print(f\"Epoch {e+1}: Loss : {loss}\")"
   ]
  },
  {
   "cell_type": "code",
   "execution_count": 26,
   "metadata": {},
   "outputs": [
    {
     "name": "stdout",
     "output_type": "stream",
     "text": [
      "Validation loss: 6.995772361755371\n"
     ]
    }
   ],
   "source": [
    "testloss = 0\n",
    "model.eval()\n",
    "for i, data in enumerate(testloader):\n",
    "    y, x = data # y = rat, x = yeast\n",
    "    yhat = model(x)\n",
    "    loss = loss_fn(y, yhat)\n",
    "    testloss += loss.item()\n",
    "testloss /= (i+1)\n",
    "print(f\"Validation loss: {testloss}\")"
   ]
  },
  {
   "cell_type": "code",
   "execution_count": 27,
   "metadata": {},
   "outputs": [],
   "source": [
    "allYeastEmb = torch.tensor(Yeastemb, dtype = torch.float32).unsqueeze(-1)\n",
    "with torch.no_grad():\n",
    "    Yeast_RatT = model(allYeastEmb)\n"
   ]
  },
  {
   "cell_type": "code",
   "execution_count": 28,
   "metadata": {},
   "outputs": [],
   "source": [
    "yeast_rat = Yeast_RatT.squeeze().numpy()\n",
    "# np.save(\"yeast->rat_emb.npy\", yeast_rat)"
   ]
  },
  {
   "cell_type": "code",
   "execution_count": 29,
   "metadata": {},
   "outputs": [
    {
     "data": {
      "text/plain": [
       "(6478, 100)"
      ]
     },
     "execution_count": 29,
     "metadata": {},
     "output_type": "execute_result"
    }
   ],
   "source": [
    "yeast_rat.shape"
   ]
  },
  {
   "cell_type": "code",
   "execution_count": 30,
   "metadata": {},
   "outputs": [],
   "source": [
    "rat_yeast_dist = cdist(Ratemb, yeast_rat) # If rat => m yeast has size n  => m x n"
   ]
  },
  {
   "cell_type": "markdown",
   "metadata": {},
   "source": [
    "## $\\color{red}{\\text{With MUNDO output (MASSIVE IMPROVEMENT)!}}$"
   ]
  },
  {
   "cell_type": "code",
   "execution_count": 37,
   "metadata": {},
   "outputs": [
    {
     "data": {
      "text/plain": [
       "([0.15,\n",
       "  0.13527851458885942,\n",
       "  0.134375,\n",
       "  0.10662824207492795,\n",
       "  0.15755627009646303],\n",
       " 0.13676760535205007)"
      ]
     },
     "execution_count": 37,
     "metadata": {},
     "output_type": "execute_result"
    }
   ],
   "source": [
    "compute_metric(dsd_func_mundo(Drat, rat_yeast_dist, yeastgomap, k_other=5),\n",
    "               topk_accs, list(range(len(ratmap))), ratgomap, kfold = 5)"
   ]
  },
  {
   "cell_type": "code",
   "execution_count": 36,
   "metadata": {},
   "outputs": [
    {
     "data": {
      "text/plain": [
       "([0.2916666666666667,\n",
       "  0.2917771883289125,\n",
       "  0.29375,\n",
       "  0.2910662824207493,\n",
       "  0.3086816720257235],\n",
       " 0.2953883618884104)"
      ]
     },
     "execution_count": 36,
     "metadata": {},
     "output_type": "execute_result"
    }
   ],
   "source": [
    "compute_metric(dsd_func_mundo(Drat, rat_yeast_dist, yeastgomap, k_other=20),\n",
    "               topk_accs, list(range(len(ratmap))), ratgomap, kfold = 5)"
   ]
  },
  {
   "cell_type": "code",
   "execution_count": 2,
   "metadata": {},
   "outputs": [
    {
     "data": {
      "text/plain": [
       "([1, 2, 3], [1, 2, 3, 4, 5])"
      ]
     },
     "execution_count": 2,
     "metadata": {},
     "output_type": "execute_result"
    }
   ],
   "source": [
    "x = [1,2,3]\n",
    "y = x + [4,5]\n",
    "x, y"
   ]
  },
  {
   "cell_type": "code",
   "execution_count": null,
   "metadata": {},
   "outputs": [],
   "source": []
  }
 ],
 "metadata": {
  "kernelspec": {
   "display_name": "mundo",
   "language": "python",
   "name": "mundo"
  },
  "language_info": {
   "codemirror_mode": {
    "name": "ipython",
    "version": 3
   },
   "file_extension": ".py",
   "mimetype": "text/x-python",
   "name": "python",
   "nbconvert_exporter": "python",
   "pygments_lexer": "ipython3",
   "version": "3.7.6"
  }
 },
 "nbformat": 4,
 "nbformat_minor": 2
}
